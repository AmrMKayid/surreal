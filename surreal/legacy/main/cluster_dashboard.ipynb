{
 "cells": [
  {
   "cell_type": "code",
   "execution_count": 4,
   "metadata": {
    "init_cell": true
   },
   "outputs": [],
   "source": [
    "from surreal.session.jupyter.tmux_cluster import *\n",
    "from surreal.session.jupyter.redis import *"
   ]
  },
  {
   "cell_type": "code",
   "execution_count": 5,
   "metadata": {
    "code_folding": [],
    "init_cell": true
   },
   "outputs": [],
   "source": [
    "from surreal.main.dqn_cartpole.configs import *\n",
    "cluster = TmuxCluster(\n",
    "    cluster_name='cartpole',\n",
    "    session_config=cartpole_session_config,\n",
    "    agent_script='surreal.main.dqn_cartpole.run_agent',\n",
    "    learner_script='surreal.main.dqn_cartpole.run_learner',\n",
    "    eval_script='surreal.main.dqn_cartpole.run_eval',\n",
    "    dry_run=0,\n",
    ")\n",
    "# magic method to enable shorthand commands\n",
    "set_cluster_var(globals(), 'cluster')"
   ]
  },
  {
   "cell_type": "code",
   "execution_count": 6,
   "metadata": {
    "init_cell": true
   },
   "outputs": [],
   "source": [
    "redis_client = StrictRedis(port=cartpole_session_config.tensorplex.port)\n",
    "set_redis_var(globals(), 'redis_client')"
   ]
  },
  {
   "cell_type": "code",
   "execution_count": 7,
   "metadata": {},
   "outputs": [
    {
     "name": "stdout",
     "output_type": "stream",
     "text": [
      "session agent-cartpole killed\n",
      "session learner-cartpole killed\n",
      "session infras-cartpole killed\n",
      "Experiment folder \"~/Temp/cartpole\" removed.\n",
      "infras-cartpole:redis-replay\t>>\tredis-server --port 6379 --protected-mode no\n",
      "infras-cartpole:redis-ps\t>>\tredis-server --port 6380 --protected-mode no\n",
      "infras-cartpole:redis-plex\t>>\tredis-server --port 6381 --protected-mode no\n",
      "infras-cartpole:loggerplex\t>>\tpython -u -m surreal.session.run_loggerplex_server '{\"folder\": \"~/Temp/cartpole\", \"tensorplex\": {\"tensorboard_port\": 6006, \"agent_update_interval\": 50, \"eval_update_interval\": 20, \"host\": \"localhost\", \"port\": 6381, \"eval_throttle_sleep\": 30, \"log_overwrite\": false, \"log_debug\": false, \"agent_bin_size\": 8}, \"sender\": {\"pointers_only\": true, \"remote_save_exp\": false, \"local_obs_cache_size\": 100000}, \"replay\": {\"host\": \"localhost\", \"port\": 6379, \"local_batch_queue_size\": 10, \"remote_exp_queue_size\": 10000, \"local_exp_queue_size\": 10000, \"name\": \"replay\", \"tensorboard_display\": true}, \"ps\": {\"host\": \"localhost\", \"port\": 6380, \"name\": \"ps\"}}'\n",
      "infras-cartpole:tensorplex\t>>\tpython -u -m surreal.session.run_tensorplex_server '{\"folder\": \"~/Temp/cartpole\", \"tensorplex\": {\"tensorboard_port\": 6006, \"agent_update_interval\": 50, \"eval_update_interval\": 20, \"host\": \"localhost\", \"port\": 6381, \"eval_throttle_sleep\": 30, \"log_overwrite\": false, \"log_debug\": false, \"agent_bin_size\": 8}, \"sender\": {\"pointers_only\": true, \"remote_save_exp\": false, \"local_obs_cache_size\": 100000}, \"replay\": {\"host\": \"localhost\", \"port\": 6379, \"local_batch_queue_size\": 10, \"remote_exp_queue_size\": 10000, \"local_exp_queue_size\": 10000, \"name\": \"replay\", \"tensorboard_display\": true}, \"ps\": {\"host\": \"localhost\", \"port\": 6380, \"name\": \"ps\"}}'\n",
      "infras-cartpole:tensorboard\t>>\ttensorboard --logdir ~/Temp/cartpole --port 6006\n",
      "learner-cartpole:learner\t>>\tpython -u -m surreal.main.dqn_cartpole.run_learner\n",
      "learner-cartpole:eval_d\t>>\tpython -u -m surreal.main.dqn_cartpole.run_eval eval_deterministic\n",
      "learner-cartpole:eval_s-0\t>>\tpython -u -m surreal.main.dqn_cartpole.run_eval eval_stochastic --id 0\n",
      "learner-cartpole:eval_s-1\t>>\tpython -u -m surreal.main.dqn_cartpole.run_eval eval_stochastic --id 1\n",
      "agent-cartpole:A0\t>>\tpython -u -m surreal.main.dqn_cartpole.run_agent 0\n",
      "agent-cartpole:A1\t>>\tpython -u -m surreal.main.dqn_cartpole.run_agent 1\n",
      "No error found in cluster.\n"
     ]
    }
   ],
   "source": [
    "killall()\n",
    "sleep(1)\n",
    "launch(0, 2, eval=2)\n",
    "sleep(2)\n",
    "error()"
   ]
  },
  {
   "cell_type": "code",
   "execution_count": 8,
   "metadata": {},
   "outputs": [
    {
     "data": {
      "text/plain": [
       "OrderedDict([('agent-cartpole', ['A0', 'A1']),\n",
       "             ('learner-cartpole',\n",
       "              ['learner', 'eval_d', 'eval_s-0', 'eval_s-1']),\n",
       "             ('infras-cartpole',\n",
       "              ['redis-replay',\n",
       "               'redis-ps',\n",
       "               'redis-plex',\n",
       "               'loggerplex',\n",
       "               'tensorplex',\n",
       "               'tensorboard'])])"
      ]
     },
     "execution_count": 8,
     "metadata": {},
     "output_type": "execute_result"
    }
   ],
   "source": [
    "ls()"
   ]
  },
  {
   "cell_type": "code",
   "execution_count": 9,
   "metadata": {},
   "outputs": [
    {
     "name": "stdout",
     "output_type": "stream",
     "text": [
      "learner-cartpole:extraeval3\t>>\tpython -u -m surreal.main.dqn_cartpole.run_eval eval_stochastic --id 66\n",
      "learner-cartpole:extraeval4\t>>\tpython -u -m surreal.main.dqn_cartpole.run_eval bad_arg\n"
     ]
    }
   ],
   "source": [
    "cluster.add_evals(['extraeval3', 'extraeval4'], ['eval_stochastic --id 66', 'bad_arg'])"
   ]
  },
  {
   "cell_type": "code",
   "execution_count": 12,
   "metadata": {},
   "outputs": [
    {
     "name": "stdout",
     "output_type": "stream",
     "text": [
      "==================== learner-cartpole:extraeval4 ====================\n",
      "Traceback (most recent call last):\n",
      "  File \"/home/jimfan/anaconda3/lib/python3.6/runpy.py\", line 193, in _run_module\n",
      "_as_main\n",
      "    \"__main__\", mod_spec)\n",
      "  File \"/home/jimfan/anaconda3/lib/python3.6/runpy.py\", line 85, in _run_code\n",
      "    exec(code, run_globals)\n",
      "  File \"/Users/jimfan/Dropbox/Portfolio/Surreal/surreal/main/dqn_cartpole/run_ev\n",
      "al.py\", line 11, in <module>\n",
      "    agent_mode = AgentMode[args.mode]\n",
      "  File \"/Users/jimfan/Dropbox/Portfolio/Surreal/surreal/utils/common.py\", line 5\n",
      "9, in __getitem__\n",
      "    return get_enum(enum_class, option)\n",
      "  File \"/Users/jimfan/Dropbox/Portfolio/Surreal/surreal/utils/common.py\", line 9\n",
      "6, in get_enum\n",
      "    .format(option, enum_class.__name__, list(options)))\n",
      "ValueError: \"bad_arg\" is not a valid option for AgentMode. Available options are\n",
      " ['training', 'eval_stochastic', 'eval_deterministic'].\n"
     ]
    }
   ],
   "source": [
    "error('learner')"
   ]
  },
  {
   "cell_type": "code",
   "execution_count": null,
   "metadata": {},
   "outputs": [],
   "source": [
    ""
   ]
  }
 ],
 "metadata": {
  "kernelspec": {
   "display_name": "Python 3",
   "language": "python",
   "name": "python3"
  },
  "language_info": {
   "codemirror_mode": {
    "name": "ipython",
    "version": 3.0
   },
   "file_extension": ".py",
   "mimetype": "text/x-python",
   "name": "python",
   "nbconvert_exporter": "python",
   "pygments_lexer": "ipython3",
   "version": "3.6.0"
  },
  "toc": {
   "nav_menu": {},
   "number_sections": true,
   "sideBar": true,
   "skip_h1_title": false,
   "toc_cell": false,
   "toc_position": {},
   "toc_section_display": "block",
   "toc_window_display": false
  },
  "varInspector": {
   "cols": {
    "lenName": 16.0,
    "lenType": 16.0,
    "lenVar": 40.0
   },
   "kernels_config": {
    "python": {
     "delete_cmd_postfix": "",
     "delete_cmd_prefix": "del ",
     "library": "var_list.py",
     "varRefreshCmd": "print(var_dic_list())"
    },
    "r": {
     "delete_cmd_postfix": ") ",
     "delete_cmd_prefix": "rm(",
     "library": "var_list.r",
     "varRefreshCmd": "cat(var_dic_list()) "
    }
   },
   "types_to_exclude": [
    "module",
    "function",
    "builtin_function_or_method",
    "instance",
    "_Feature"
   ],
   "window_display": false
  }
 },
 "nbformat": 4,
 "nbformat_minor": 0
}