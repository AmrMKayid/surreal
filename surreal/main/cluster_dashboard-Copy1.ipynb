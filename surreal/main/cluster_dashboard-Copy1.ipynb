{
 "cells": [
  {
   "cell_type": "code",
   "execution_count": 5,
   "metadata": {
    "init_cell": true
   },
   "outputs": [],
   "source": [
    "import importlib\n",
    "from surreal.session.jupyter.tmux_cluster import *"
   ]
  },
  {
   "cell_type": "code",
   "execution_count": 6,
   "metadata": {
    "code_folding": [],
    "collapsed": true,
    "init_cell": true
   },
   "outputs": [],
   "source": [
    "EXPERIMENT = 'dqn_cartpole'\n",
    "EXPERIMENT = 'ddpg'\n",
    "\n",
    "_pkg = 'surreal.main.' + EXPERIMENT + '.'\n",
    "config_pkg = importlib.import_module(_pkg + 'configs')\n",
    "session_config = config_pkg.session_config\n",
    "cluster = TmuxCluster(\n",
    "    cluster_name=EXPERIMENT,\n",
    "    session_config=session_config,\n",
    "    agent_script=_pkg + 'run_agent',\n",
    "    learner_script=_pkg + 'run_learner',\n",
    "    replay_script=_pkg + 'run_replay',\n",
    "    eval_script=_pkg + 'run_eval',\n",
    "    preamble_cmd='source activate surreal',\n",
    "    dry_run=0,\n",
    ")\n",
    "# magic method to enable shorthand commands\n",
    "set_cluster_var(globals(), 'cluster')"
   ]
  },
  {
   "cell_type": "code",
   "execution_count": 113,
   "metadata": {},
   "outputs": [
    {
     "name": "stdout",
     "output_type": "stream",
     "text": [
      "session agent-ddpg killed\n",
      "session learner-ddpg killed\n",
      "session infras-ddpg killed\n",
      "Experiment folder \"/tmp/halfcheetah\" removed.\n"
     ]
    }
   ],
   "source": [
    "killall()"
   ]
  },
  {
   "cell_type": "code",
   "execution_count": 106,
   "metadata": {
    "scrolled": false
   },
   "outputs": [
    {
     "name": "stdout",
     "output_type": "stream",
     "text": [
      "Experiment folder \"/tmp/halfcheetah\" removed.\n",
      "infras-ddpg:loggerplex\t>>\tpython -u -m surreal.session.run_loggerplex_server '{\"sender\": {\"flush_time\": 0, \"flush_iteration\": 100}, \"loggerplex\": {\"overwrite\": false, \"port\": 7006, \"time_format\": \"hms\", \"show_level\": true, \"level\": \"info\", \"host\": \"localhost\"}, \"tensorplex\": {\"max_processes\": 4, \"port\": 7005, \"update_schedule\": {\"eval_env_sleep\": 30, \"agent\": 50, \"training_env\": 20, \"learner\": 20, \"eval_env\": 5}, \"tensorboard_port\": 6006, \"agent_bin_size\": 8, \"host\": \"localhost\"}, \"folder\": \"/tmp/halfcheetah\", \"replay\": {\"host\": \"localhost\", \"evict_interval\": 0.0, \"port\": 7001, \"max_prefetch_batch_queue\": 10, \"sampler_host\": \"localhost\", \"max_puller_queue\": 10000, \"tensorboard_display\": true, \"sampler_port\": 7002}, \"ps\": {\"publish_host\": \"localhost\", \"publish_port\": 7004, \"port\": 7003, \"host\": \"localhost\"}}'\n",
      "infras-ddpg:tensorplex\t>>\tpython -u -m surreal.session.run_tensorplex_server '{\"sender\": {\"flush_time\": 0, \"flush_iteration\": 100}, \"loggerplex\": {\"overwrite\": false, \"port\": 7006, \"time_format\": \"hms\", \"show_level\": true, \"level\": \"info\", \"host\": \"localhost\"}, \"tensorplex\": {\"max_processes\": 4, \"port\": 7005, \"update_schedule\": {\"eval_env_sleep\": 30, \"agent\": 50, \"training_env\": 20, \"learner\": 20, \"eval_env\": 5}, \"tensorboard_port\": 6006, \"agent_bin_size\": 8, \"host\": \"localhost\"}, \"folder\": \"/tmp/halfcheetah\", \"replay\": {\"host\": \"localhost\", \"evict_interval\": 0.0, \"port\": 7001, \"max_prefetch_batch_queue\": 10, \"sampler_host\": \"localhost\", \"max_puller_queue\": 10000, \"tensorboard_display\": true, \"sampler_port\": 7002}, \"ps\": {\"publish_host\": \"localhost\", \"publish_port\": 7004, \"port\": 7003, \"host\": \"localhost\"}}'\n",
      "infras-ddpg:tensorboard\t>>\ttensorboard --logdir /tmp/halfcheetah --port 6006\n",
      "infras-ddpg:ps\t>>\tpython -u -m surreal.session.run_parameter_server '{\"sender\": {\"flush_time\": 0, \"flush_iteration\": 100}, \"loggerplex\": {\"overwrite\": false, \"port\": 7006, \"time_format\": \"hms\", \"show_level\": true, \"level\": \"info\", \"host\": \"localhost\"}, \"tensorplex\": {\"max_processes\": 4, \"port\": 7005, \"update_schedule\": {\"eval_env_sleep\": 30, \"agent\": 50, \"training_env\": 20, \"learner\": 20, \"eval_env\": 5}, \"tensorboard_port\": 6006, \"agent_bin_size\": 8, \"host\": \"localhost\"}, \"folder\": \"/tmp/halfcheetah\", \"replay\": {\"host\": \"localhost\", \"evict_interval\": 0.0, \"port\": 7001, \"max_prefetch_batch_queue\": 10, \"sampler_host\": \"localhost\", \"max_puller_queue\": 10000, \"tensorboard_display\": true, \"sampler_port\": 7002}, \"ps\": {\"publish_host\": \"localhost\", \"publish_port\": 7004, \"port\": 7003, \"host\": \"localhost\"}}'\n",
      "learner-ddpg:replay\t>>\tpython -u -m surreal.main.ddpg.run_replay\n",
      "learner-ddpg:learner\t>>\tpython -u -m surreal.main.ddpg.run_learner\n",
      "learner-ddpg:eval_d\t>>\tpython -u -m surreal.main.ddpg.run_eval --mode eval_deterministic\n",
      "agent-ddpg:A0\t>>\tpython -u -m surreal.main.ddpg.run_agent 0\n",
      "agent-ddpg:A1\t>>\tpython -u -m surreal.main.ddpg.run_agent 1\n",
      "No error found in cluster.\n"
     ]
    }
   ],
   "source": [
    "killall()\n",
    "sleep(1)\n",
    "launch(0, 2, eval=0)\n",
    "sleep(2)\n",
    "error()"
   ]
  },
  {
   "cell_type": "code",
   "execution_count": 110,
   "metadata": {
    "scrolled": false
   },
   "outputs": [
    {
     "name": "stdout",
     "output_type": "stream",
     "text": [
      "==================== agent-ddpg:A0 ====================\n",
      "│ Total steps     │     1.974e+06 │\n",
      "├─────────────────┼───────────────┤\n",
      "│ Episodes        │ 19740         │\n",
      "╘═════════════════╧═══════════════╛\n",
      "╒═════════════════╤═══════════════╕\n",
      "│ Last 10 rewards │     2.521     │\n",
      "├─────────────────┼───────────────┤\n",
      "│ Speed iter/s    │  1241.5       │\n",
      "├─────────────────┼───────────────┤\n",
      "│ Total steps     │     1.975e+06 │\n",
      "├─────────────────┼───────────────┤\n",
      "│ Episodes        │ 19750         │\n",
      "╘═════════════════╧═══════════════╛\n",
      "╒═════════════════╤═══════════════╕\n",
      "│ Last 10 rewards │   -12.123     │\n",
      "├─────────────────┼───────────────┤\n",
      "│ Speed iter/s    │  1403.1       │\n",
      "├─────────────────┼───────────────┤\n",
      "│ Total steps     │     1.976e+06 │\n",
      "├─────────────────┼───────────────┤\n",
      "│ Episodes        │ 19760         │\n",
      "╘═════════════════╧═══════════════╛\n",
      "==================== agent-ddpg:A1 ====================\n",
      "│ Total steps     │     1.986e+06 │\n",
      "├─────────────────┼───────────────┤\n",
      "│ Episodes        │ 19860         │\n",
      "╘═════════════════╧═══════════════╛\n",
      "╒═════════════════╤═══════════════╕\n",
      "│ Last 10 rewards │    11.206     │\n",
      "├─────────────────┼───────────────┤\n",
      "│ Speed iter/s    │  1341.6       │\n",
      "├─────────────────┼───────────────┤\n",
      "│ Total steps     │     1.987e+06 │\n",
      "├─────────────────┼───────────────┤\n",
      "│ Episodes        │ 19870         │\n",
      "╘═════════════════╧═══════════════╛\n",
      "╒═════════════════╤═══════════════╕\n",
      "│ Last 10 rewards │    -0.55      │\n",
      "├─────────────────┼───────────────┤\n",
      "│ Speed iter/s    │  1414.8       │\n",
      "├─────────────────┼───────────────┤\n",
      "│ Total steps     │     1.988e+06 │\n",
      "├─────────────────┼───────────────┤\n",
      "│ Episodes        │ 19880         │\n",
      "╘═════════════════╧═══════════════╛\n"
     ]
    }
   ],
   "source": [
    "stdout('agent')"
   ]
  },
  {
   "cell_type": "code",
   "execution_count": 111,
   "metadata": {
    "scrolled": false
   },
   "outputs": [
    {
     "name": "stdout",
     "output_type": "stream",
     "text": [
      "==================== learner-ddpg:replay ====================\n",
      "jirenz@surreal-jiren:~/Surreal/surreal/main$  source activate surreal\n",
      " python -u -m surreal.main.ddpg.run_replay\n",
      "(surreal) jirenz@surreal-jiren:~/Surreal/surreal/main$  python -u -m surreal.mai\n",
      "n.ddpg.run_replay\n",
      "==================== learner-ddpg:learner ====================\n",
      " source activate surreal\n",
      " python -u -m surreal.main.ddpg.run_learner\n",
      "jirenz@surreal-jiren:~/Surreal/surreal/main$  source activate surreal\n",
      "(surreal) jirenz@surreal-jiren:~/Surreal/surreal/main$  python -u -m surreal.mai\n",
      "n.ddpg.run_learner\n",
      "==================== learner-ddpg:eval_d ====================\n",
      "│ Total steps     │ 200000     │\n",
      "├─────────────────┼────────────┤\n",
      "│ Episodes        │    200     │\n",
      "╘═════════════════╧════════════╛\n",
      "╒═════════════════╤════════════╕\n",
      "│ Last 10 rewards │      5.837 │\n",
      "├─────────────────┼────────────┤\n",
      "│ Speed iter/s    │   3121.2   │\n",
      "├─────────────────┼────────────┤\n",
      "│ Total steps     │ 210000     │\n",
      "├─────────────────┼────────────┤\n",
      "│ Episodes        │    210     │\n",
      "╘═════════════════╧════════════╛\n",
      "╒═════════════════╤════════════╕\n",
      "│ Last 10 rewards │      2.129 │\n",
      "├─────────────────┼────────────┤\n",
      "│ Speed iter/s    │   3097.8   │\n",
      "├─────────────────┼────────────┤\n",
      "│ Total steps     │ 220000     │\n",
      "├─────────────────┼────────────┤\n",
      "│ Episodes        │    220     │\n",
      "╘═════════════════╧════════════╛\n"
     ]
    }
   ],
   "source": [
    "stdout('learner')"
   ]
  },
  {
   "cell_type": "code",
   "execution_count": 112,
   "metadata": {
    "scrolled": false
   },
   "outputs": [
    {
     "name": "stdout",
     "output_type": "stream",
     "text": [
      "==================== infras-ddpg:loggerplex ====================\n",
      " python -u -m surreal.session.run_loggerplex_server '{\"sender\": {\"flush_time\": 0\n",
      ", \"flush_iteration\": 100}, \"loggerplex\": {\"overwrite\": false, \"port\": 7006, \"tim\n",
      "e_format\": \"hms\", \"show_level\": true, \"level\": \"info\", \"host\": \"localhost\"}, \"te\n",
      "nsorplex\": {\"max_processes\": 4, \"port\": 7005, \"update_schedule\": {\"eval_env_slee\n",
      "p\": 30, \"agent\": 50, \"training_env\": 20, \"learner\": 20, \"eval_env\": 5}, \"tensorb\n",
      "oard_port\": 6006, \"agent_bin_size\": 8, \"host\": \"localhost\"}, \"folder\": \"/tmp/hal\n",
      "fcheetah\", \"replay\": {\"host\": \"localhost\", \"evict_interval\": 0.0, \"port\": 7001,\n",
      "\"max_prefetch_batch_queue\": 10, \"sampler_host\": \"localhost\", \"max_puller_queue\":\n",
      " 10000, \"tensorboard_display\": true, \"sampler_port\": 7002}, \"ps\": {\"publish_host\n",
      "\": \"localhost\", \"publish_port\": 7004, \"port\": 7003, \"host\": \"localhost\"}}'\n",
      "jirenz@surreal-jiren:~/Surreal/surreal/main$  source activate surreal\n",
      "(surreal) jirenz@surreal-jiren:~/Surreal/surreal/main$  python -u -m surreal.ses\n",
      "sion.run_loggerplex_server '{\"sender\": {\"flush_time\": 0, \"flush_iteration\": 100}\n",
      ", \"loggerplex\": {\"overwrite\": false, \"port\": 7006, \"time_format\": \"hms\", \"show_l\n",
      "evel\": true, \"level\": \"info\", \"host\": \"localhost\"}, \"tensorplex\": {\"max_processe\n",
      "s\": 4, \"port\": 7005, \"update_schedule\": {\"eval_env_sleep\": 30, \"agent\": 50, \"tra\n",
      "ining_env\": 20, \"learner\": 20, \"eval_env\": 5}, \"tensorboard_port\": 6006, \"agent_\n",
      "bin_size\": 8, \"host\": \"localhost\"}, \"folder\": \"/tmp/halfcheetah\", \"replay\": {\"ho\n",
      "st\": \"localhost\", \"evict_interval\": 0.0, \"port\": 7001, \"max_prefetch_batch_queue\n",
      "\": 10, \"sampler_host\": \"localhost\", \"max_puller_queue\": 10000, \"tensorboard_disp\n",
      "lay\": true, \"sampler_port\": 7002}, \"ps\": {\"publish_host\": \"localhost\", \"publish_\n",
      "port\": 7004, \"port\": 7003, \"host\": \"localhost\"}}'\n",
      "==================== infras-ddpg:tensorplex ====================\n",
      " python -u -m surreal.session.run_tensorplex_server '{\"sender\": {\"flush_time\": 0\n",
      ", \"flush_iteration\": 100}, \"loggerplex\": {\"overwrite\": false, \"port\": 7006, \"tim\n",
      "e_format\": \"hms\", \"show_level\": true, \"level\": \"info\", \"host\": \"localhost\"}, \"te\n",
      "nsorplex\": {\"max_processes\": 4, \"port\": 7005, \"update_schedule\": {\"eval_env_slee\n",
      "p\": 30, \"agent\": 50, \"training_env\": 20, \"learner\": 20, \"eval_env\": 5}, \"tensorb\n",
      "oard_port\": 6006, \"agent_bin_size\": 8, \"host\": \"localhost\"}, \"folder\": \"/tmp/hal\n",
      "fcheetah\", \"replay\": {\"host\": \"localhost\", \"evict_interval\": 0.0, \"port\": 7001,\n",
      "\"max_prefetch_batch_queue\": 10, \"sampler_host\": \"localhost\", \"max_puller_queue\":\n",
      " 10000, \"tensorboard_display\": true, \"sampler_port\": 7002}, \"ps\": {\"publish_host\n",
      "\": \"localhost\", \"publish_port\": 7004, \"port\": 7003, \"host\": \"localhost\"}}'\n",
      "jirenz@surreal-jiren:~/Surreal/surreal/main$  source activate surreal\n",
      "(surreal) jirenz@surreal-jiren:~/Surreal/surreal/main$  python -u -m surreal.ses\n",
      "sion.run_tensorplex_server '{\"sender\": {\"flush_time\": 0, \"flush_iteration\": 100}\n",
      ", \"loggerplex\": {\"overwrite\": false, \"port\": 7006, \"time_format\": \"hms\", \"show_l\n",
      "evel\": true, \"level\": \"info\", \"host\": \"localhost\"}, \"tensorplex\": {\"max_processe\n",
      "s\": 4, \"port\": 7005, \"update_schedule\": {\"eval_env_sleep\": 30, \"agent\": 50, \"tra\n",
      "ining_env\": 20, \"learner\": 20, \"eval_env\": 5}, \"tensorboard_port\": 6006, \"agent_\n",
      "bin_size\": 8, \"host\": \"localhost\"}, \"folder\": \"/tmp/halfcheetah\", \"replay\": {\"ho\n",
      "st\": \"localhost\", \"evict_interval\": 0.0, \"port\": 7001, \"max_prefetch_batch_queue\n",
      "\": 10, \"sampler_host\": \"localhost\", \"max_puller_queue\": 10000, \"tensorboard_disp\n",
      "lay\": true, \"sampler_port\": 7002}, \"ps\": {\"publish_host\": \"localhost\", \"publish_\n",
      "port\": 7004, \"port\": 7003, \"host\": \"localhost\"}}'\n",
      "==================== infras-ddpg:tensorboard ====================\n",
      " source activate surreal\n",
      " tensorboard --logdir /tmp/halfcheetah --port 6006\n",
      "jirenz@surreal-jiren:~/Surreal/surreal/main$  source activate surreal\n",
      "(surreal) jirenz@surreal-jiren:~/Surreal/surreal/main$  tensorboard --logdir /tm\n",
      "p/halfcheetah --port 6006\n",
      "TensorBoard 0.4.0rc3 at http://surreal-jiren:6006 (Press CTRL+C to quit)\n",
      "==================== infras-ddpg:ps ====================\n",
      " python -u -m surreal.session.run_parameter_server '{\"sender\": {\"flush_time\": 0,\n",
      " \"flush_iteration\": 100}, \"loggerplex\": {\"overwrite\": false, \"port\": 7006, \"time\n",
      "_format\": \"hms\", \"show_level\": true, \"level\": \"info\", \"host\": \"localhost\"}, \"ten\n",
      "sorplex\": {\"max_processes\": 4, \"port\": 7005, \"update_schedule\": {\"eval_env_sleep\n",
      "\": 30, \"agent\": 50, \"training_env\": 20, \"learner\": 20, \"eval_env\": 5}, \"tensorbo\n",
      "ard_port\": 6006, \"agent_bin_size\": 8, \"host\": \"localhost\"}, \"folder\": \"/tmp/half\n",
      "cheetah\", \"replay\": {\"host\": \"localhost\", \"evict_interval\": 0.0, \"port\": 7001, \"\n",
      "max_prefetch_batch_queue\": 10, \"sampler_host\": \"localhost\", \"max_puller_queue\":\n",
      "10000, \"tensorboard_display\": true, \"sampler_port\": 7002}, \"ps\": {\"publish_host\"\n",
      ": \"localhost\", \"publish_port\": 7004, \"port\": 7003, \"host\": \"localhost\"}}'\n",
      "jirenz@surreal-jiren:~/Surreal/surreal/main$  source activate surreal\n",
      "(surreal) jirenz@surreal-jiren:~/Surreal/surreal/main$  python -u -m surreal.ses\n",
      "sion.run_parameter_server '{\"sender\": {\"flush_time\": 0, \"flush_iteration\": 100},\n",
      " \"loggerplex\": {\"overwrite\": false, \"port\": 7006, \"time_format\": \"hms\", \"show_le\n",
      "vel\": true, \"level\": \"info\", \"host\": \"localhost\"}, \"tensorplex\": {\"max_processes\n",
      "\": 4, \"port\": 7005, \"update_schedule\": {\"eval_env_sleep\": 30, \"agent\": 50, \"trai\n",
      "ning_env\": 20, \"learner\": 20, \"eval_env\": 5}, \"tensorboard_port\": 6006, \"agent_b\n",
      "in_size\": 8, \"host\": \"localhost\"}, \"folder\": \"/tmp/halfcheetah\", \"replay\": {\"hos\n",
      "t\": \"localhost\", \"evict_interval\": 0.0, \"port\": 7001, \"max_prefetch_batch_queue\"\n",
      ": 10, \"sampler_host\": \"localhost\", \"max_puller_queue\": 10000, \"tensorboard_displ\n",
      "ay\": true, \"sampler_port\": 7002}, \"ps\": {\"publish_host\": \"localhost\", \"publish_p\n",
      "ort\": 7004, \"port\": 7003, \"host\": \"localhost\"}}'\n"
     ]
    }
   ],
   "source": [
    "stdout('infras')"
   ]
  },
  {
   "cell_type": "code",
   "execution_count": 47,
   "metadata": {},
   "outputs": [
    {
     "name": "stdout",
     "output_type": "stream",
     "text": [
      "learner-ddpg:visual\t>>\tpython -u -m surreal.main.ddpg.run_eval --mode eval_deterministic --id 1 --render\n"
     ]
    }
   ],
   "source": [
    "cluster.add_evals(['visual'], ['--mode eval_deterministic --id 1 --render'])"
   ]
  },
  {
   "cell_type": "code",
   "execution_count": 48,
   "metadata": {},
   "outputs": [
    {
     "name": "stdout",
     "output_type": "stream",
     "text": [
      "learner-ddpg:visual killed\n"
     ]
    }
   ],
   "source": [
    "cluster.kill_evals(['visual'])"
   ]
  },
  {
   "cell_type": "code",
   "execution_count": null,
   "metadata": {
    "collapsed": true
   },
   "outputs": [],
   "source": [
    "add_agents(8,16)"
   ]
  },
  {
   "cell_type": "code",
   "execution_count": null,
   "metadata": {
    "collapsed": true
   },
   "outputs": [],
   "source": [
    "cluster.add_evals(['visuals'], ['--mode eval_stochastic --id 2 --render'])"
   ]
  },
  {
   "cell_type": "code",
   "execution_count": null,
   "metadata": {
    "collapsed": true
   },
   "outputs": [],
   "source": [
    "cluster._tmux.kill(cluster.learner_session, 'learner')"
   ]
  },
  {
   "cell_type": "code",
   "execution_count": null,
   "metadata": {
    "collapsed": true
   },
   "outputs": [],
   "source": []
  }
 ],
 "metadata": {
  "kernelspec": {
   "display_name": "surreal",
   "language": "python",
   "name": "surreal"
  },
  "language_info": {
   "codemirror_mode": {
    "name": "ipython",
    "version": 3
   },
   "file_extension": ".py",
   "mimetype": "text/x-python",
   "name": "python",
   "nbconvert_exporter": "python",
   "pygments_lexer": "ipython3",
   "version": "3.5.4"
  },
  "toc": {
   "nav_menu": {},
   "number_sections": true,
   "sideBar": true,
   "skip_h1_title": false,
   "toc_cell": false,
   "toc_position": {},
   "toc_section_display": "block",
   "toc_window_display": false
  },
  "varInspector": {
   "cols": {
    "lenName": 16,
    "lenType": 16,
    "lenVar": 40
   },
   "kernels_config": {
    "python": {
     "delete_cmd_postfix": "",
     "delete_cmd_prefix": "del ",
     "library": "var_list.py",
     "varRefreshCmd": "print(var_dic_list())"
    },
    "r": {
     "delete_cmd_postfix": ") ",
     "delete_cmd_prefix": "rm(",
     "library": "var_list.r",
     "varRefreshCmd": "cat(var_dic_list()) "
    }
   },
   "types_to_exclude": [
    "module",
    "function",
    "builtin_function_or_method",
    "instance",
    "_Feature"
   ],
   "window_display": false
  }
 },
 "nbformat": 4,
 "nbformat_minor": 1
}
