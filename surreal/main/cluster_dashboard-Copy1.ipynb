{
 "cells": [
  {
   "cell_type": "code",
   "execution_count": 1,
   "metadata": {
    "collapsed": true,
    "init_cell": true
   },
   "outputs": [],
   "source": [
    "import importlib\n",
    "from surreal.session.jupyter.tmux_cluster import *"
   ]
  },
  {
   "cell_type": "code",
   "execution_count": 2,
   "metadata": {
    "code_folding": [],
    "collapsed": true,
    "init_cell": true
   },
   "outputs": [],
   "source": [
    "EXPERIMENT = 'dqn_cartpole'\n",
    "EXPERIMENT = 'ddpg'\n",
    "\n",
    "_pkg = 'surreal.main.' + EXPERIMENT + '.'\n",
    "config_pkg = importlib.import_module(_pkg + 'configs')\n",
    "session_config = config_pkg.session_config\n",
    "cluster = TmuxCluster(\n",
    "    cluster_name=EXPERIMENT,\n",
    "    session_config=session_config,\n",
    "    agent_script=_pkg + 'run_agent',\n",
    "    learner_script=_pkg + 'run_learner',\n",
    "    replay_script=_pkg + 'run_replay',\n",
    "    eval_script=_pkg + 'run_eval',\n",
    "    preamble_cmd='source activate surrealmjgym',\n",
    "    dry_run=0,\n",
    ")\n",
    "# magic method to enable shorthand commands\n",
    "set_cluster_var(globals(), 'cluster')"
   ]
  },
  {
   "cell_type": "code",
   "execution_count": 99,
   "metadata": {
    "collapsed": false
   },
   "outputs": [
    {
     "name": "stdout",
     "output_type": "stream",
     "text": [
      "Experiment folder \"/tmp/halfcheetah\" removed.\n"
     ]
    }
   ],
   "source": [
    "killall()"
   ]
  },
  {
   "cell_type": "code",
   "execution_count": 104,
   "metadata": {
    "collapsed": false
   },
   "outputs": [
    {
     "name": "stdout",
     "output_type": "stream",
     "text": [
      "session agent-ddpg killed\n",
      "session learner-ddpg killed\n",
      "session infras-ddpg killed\n",
      "Experiment folder \"/tmp/halfcheetah\" removed.\n",
      "infras-ddpg:loggerplex\t>>\tpython -u -m surreal.session.run_loggerplex_server '{\"sender\": {\"flush_time\": 0, \"flush_iteration\": 100}, \"ps\": {\"publish_port\": 7004, \"port\": 7003, \"publish_host\": \"localhost\", \"host\": \"localhost\"}, \"replay\": {\"sampler_host\": \"localhost\", \"port\": 7001, \"max_puller_queue\": 10000, \"evict_interval\": 0.0, \"sampler_port\": 7002, \"max_prefetch_batch_queue\": 10, \"host\": \"localhost\", \"tensorboard_display\": true}, \"folder\": \"/tmp/halfcheetah\", \"loggerplex\": {\"port\": 7006, \"show_level\": true, \"host\": \"localhost\", \"level\": \"info\", \"time_format\": \"hms\", \"overwrite\": false}, \"tensorplex\": {\"port\": 7005, \"host\": \"localhost\", \"agent_bin_size\": 8, \"update_schedule\": {\"eval_env\": 5, \"eval_env_sleep\": 30, \"learner\": 20, \"training_env\": 20, \"agent\": 50}, \"max_processes\": 4, \"tensorboard_port\": 6006}}'\n",
      "infras-ddpg:tensorplex\t>>\tpython -u -m surreal.session.run_tensorplex_server '{\"sender\": {\"flush_time\": 0, \"flush_iteration\": 100}, \"ps\": {\"publish_port\": 7004, \"port\": 7003, \"publish_host\": \"localhost\", \"host\": \"localhost\"}, \"replay\": {\"sampler_host\": \"localhost\", \"port\": 7001, \"max_puller_queue\": 10000, \"evict_interval\": 0.0, \"sampler_port\": 7002, \"max_prefetch_batch_queue\": 10, \"host\": \"localhost\", \"tensorboard_display\": true}, \"folder\": \"/tmp/halfcheetah\", \"loggerplex\": {\"port\": 7006, \"show_level\": true, \"host\": \"localhost\", \"level\": \"info\", \"time_format\": \"hms\", \"overwrite\": false}, \"tensorplex\": {\"port\": 7005, \"host\": \"localhost\", \"agent_bin_size\": 8, \"update_schedule\": {\"eval_env\": 5, \"eval_env_sleep\": 30, \"learner\": 20, \"training_env\": 20, \"agent\": 50}, \"max_processes\": 4, \"tensorboard_port\": 6006}}'\n",
      "infras-ddpg:tensorboard\t>>\ttensorboard --logdir /tmp/halfcheetah --port 6006\n",
      "infras-ddpg:ps\t>>\tpython -u -m surreal.session.run_parameter_server '{\"sender\": {\"flush_time\": 0, \"flush_iteration\": 100}, \"ps\": {\"publish_port\": 7004, \"port\": 7003, \"publish_host\": \"localhost\", \"host\": \"localhost\"}, \"replay\": {\"sampler_host\": \"localhost\", \"port\": 7001, \"max_puller_queue\": 10000, \"evict_interval\": 0.0, \"sampler_port\": 7002, \"max_prefetch_batch_queue\": 10, \"host\": \"localhost\", \"tensorboard_display\": true}, \"folder\": \"/tmp/halfcheetah\", \"loggerplex\": {\"port\": 7006, \"show_level\": true, \"host\": \"localhost\", \"level\": \"info\", \"time_format\": \"hms\", \"overwrite\": false}, \"tensorplex\": {\"port\": 7005, \"host\": \"localhost\", \"agent_bin_size\": 8, \"update_schedule\": {\"eval_env\": 5, \"eval_env_sleep\": 30, \"learner\": 20, \"training_env\": 20, \"agent\": 50}, \"max_processes\": 4, \"tensorboard_port\": 6006}}'\n",
      "learner-ddpg:replay\t>>\tpython -u -m surreal.main.ddpg.run_replay\n",
      "learner-ddpg:learner\t>>\tpython -u -m surreal.main.ddpg.run_learner\n",
      "learner-ddpg:eval_d\t>>\tpython -u -m surreal.main.ddpg.run_eval --mode eval_deterministic\n",
      "agent-ddpg:A0\t>>\tpython -u -m surreal.main.ddpg.run_agent 0\n",
      "agent-ddpg:A1\t>>\tpython -u -m surreal.main.ddpg.run_agent 1\n",
      "No error found in cluster.\n"
     ]
    }
   ],
   "source": [
    "killall()\n",
    "sleep(1)\n",
    "launch(0, 2, eval=0)\n",
    "sleep(2)\n",
    "error()"
   ]
  },
  {
   "cell_type": "code",
   "execution_count": 108,
   "metadata": {
    "collapsed": false,
    "scrolled": false
   },
   "outputs": [
    {
     "name": "stdout",
     "output_type": "stream",
     "text": [
      "==================== agent-ddpg:A0 ====================\n",
      "DN0a1f0454:main jirenz$  source activate surrealmjgym\n",
      " python -u -m surreal.main.ddpg.run_agent 0\n",
      "(surrealmjgym) DN0a1f0454:main jirenz$  python -u -m surreal.main.ddpg.run_agent 0\n",
      "╒═════════════════╤══════════╕\n",
      "│ Last 10 rewards │  -14.988 │\n",
      "├─────────────────┼──────────┤\n",
      "│ Speed iter/s    │  357     │\n",
      "├─────────────────┼──────────┤\n",
      "│ Total steps     │ 1000     │\n",
      "├─────────────────┼──────────┤\n",
      "│ Episodes        │   10     │\n",
      "╘═════════════════╧══════════╛\n",
      "╒═════════════════╤══════════╕\n",
      "│ Last 10 rewards │  -11.832 │\n",
      "├─────────────────┼──────────┤\n",
      "│ Speed iter/s    │  386.8   │\n",
      "├─────────────────┼──────────┤\n",
      "│ Total steps     │ 2000     │\n",
      "├─────────────────┼──────────┤\n",
      "│ Episodes        │   20     │\n",
      "╘═════════════════╧══════════╛\n",
      "╒═════════════════╤══════════╕\n",
      "│ Last 10 rewards │  -15.488 │\n",
      "├─────────────────┼──────────┤\n",
      "│ Speed iter/s    │  440.7   │\n",
      "├─────────────────┼──────────┤\n",
      "│ Total steps     │ 3000     │\n",
      "├─────────────────┼──────────┤\n",
      "│ Episodes        │   30     │\n",
      "╘═════════════════╧══════════╛\n",
      "╒═════════════════╤══════════╕\n",
      "│ Last 10 rewards │  -15.358 │\n",
      "├─────────────────┼──────────┤\n",
      "│ Speed iter/s    │  627.6   │\n",
      "├─────────────────┼──────────┤\n",
      "│ Total steps     │ 4000     │\n",
      "├─────────────────┼──────────┤\n",
      "│ Episodes        │   40     │\n",
      "╘═════════════════╧══════════╛\n",
      "╒═════════════════╤══════════╕\n",
      "│ Last 10 rewards │  -18.087 │\n",
      "├─────────────────┼──────────┤\n",
      "│ Speed iter/s    │  592.5   │\n",
      "├─────────────────┼──────────┤\n",
      "│ Total steps     │ 5000     │\n",
      "├─────────────────┼──────────┤\n",
      "│ Episodes        │   50     │\n",
      "╘═════════════════╧══════════╛\n",
      "╒═════════════════╤══════════╕\n",
      "│ Last 10 rewards │  -15.605 │\n",
      "├─────────────────┼──────────┤\n",
      "│ Speed iter/s    │  418.7   │\n",
      "├─────────────────┼──────────┤\n",
      "│ Total steps     │ 6000     │\n",
      "├─────────────────┼──────────┤\n",
      "│ Episodes        │   60     │\n",
      "╘═════════════════╧══════════╛\n",
      "╒═════════════════╤══════════╕\n",
      "│ Last 10 rewards │  -17.533 │\n",
      "├─────────────────┼──────────┤\n",
      "│ Speed iter/s    │  366.7   │\n",
      "├─────────────────┼──────────┤\n",
      "│ Total steps     │ 7000     │\n",
      "├─────────────────┼──────────┤\n",
      "│ Episodes        │   70     │\n",
      "╘═════════════════╧══════════╛\n",
      "==================== agent-ddpg:A1 ====================\n",
      "DN0a1f0454:main jirenz$  source activate surrealmjgym\n",
      " python -u -m surreal.main.ddpg.run_agent 1\n",
      "(surrealmjgym) DN0a1f0454:main jirenz$  python -u -m surreal.main.ddpg.run_agent 1\n",
      "╒═════════════════╤══════════╕\n",
      "│ Last 10 rewards │  -18.972 │\n",
      "├─────────────────┼──────────┤\n",
      "│ Speed iter/s    │  358.3   │\n",
      "├─────────────────┼──────────┤\n",
      "│ Total steps     │ 1000     │\n",
      "├─────────────────┼──────────┤\n",
      "│ Episodes        │   10     │\n",
      "╘═════════════════╧══════════╛\n",
      "╒═════════════════╤══════════╕\n",
      "│ Last 10 rewards │  -16.424 │\n",
      "├─────────────────┼──────────┤\n",
      "│ Speed iter/s    │  367     │\n",
      "├─────────────────┼──────────┤\n",
      "│ Total steps     │ 2000     │\n",
      "├─────────────────┼──────────┤\n",
      "│ Episodes        │   20     │\n",
      "╘═════════════════╧══════════╛\n",
      "╒═════════════════╤══════════╕\n",
      "│ Last 10 rewards │  -12.714 │\n",
      "├─────────────────┼──────────┤\n",
      "│ Speed iter/s    │  391.4   │\n",
      "├─────────────────┼──────────┤\n",
      "│ Total steps     │ 3000     │\n",
      "├─────────────────┼──────────┤\n",
      "│ Episodes        │   30     │\n",
      "╘═════════════════╧══════════╛\n",
      "╒═════════════════╤══════════╕\n",
      "│ Last 10 rewards │  -18.549 │\n",
      "├─────────────────┼──────────┤\n",
      "│ Speed iter/s    │  544.2   │\n",
      "├─────────────────┼──────────┤\n",
      "│ Total steps     │ 4000     │\n",
      "├─────────────────┼──────────┤\n",
      "│ Episodes        │   40     │\n",
      "╘═════════════════╧══════════╛\n",
      "╒═════════════════╤═════════╕\n",
      "│ Last 10 rewards │  -17.48 │\n",
      "├─────────────────┼─────────┤\n",
      "│ Speed iter/s    │  682.5  │\n",
      "├─────────────────┼─────────┤\n",
      "│ Total steps     │ 5000    │\n",
      "├─────────────────┼─────────┤\n",
      "│ Episodes        │   50    │\n",
      "╘═════════════════╧═════════╛\n",
      "╒═════════════════╤══════════╕\n",
      "│ Last 10 rewards │  -17.185 │\n",
      "├─────────────────┼──────────┤\n",
      "│ Speed iter/s    │  482.3   │\n",
      "├─────────────────┼──────────┤\n",
      "│ Total steps     │ 6000     │\n",
      "├─────────────────┼──────────┤\n",
      "│ Episodes        │   60     │\n",
      "╘═════════════════╧══════════╛\n",
      "╒═════════════════╤══════════╕\n",
      "│ Last 10 rewards │  -18.292 │\n",
      "├─────────────────┼──────────┤\n",
      "│ Speed iter/s    │  414.8   │\n",
      "├─────────────────┼──────────┤\n",
      "│ Total steps     │ 7000     │\n",
      "├─────────────────┼──────────┤\n",
      "│ Episodes        │   70     │\n",
      "╘═════════════════╧══════════╛\n"
     ]
    }
   ],
   "source": [
    "stdout('agent')"
   ]
  },
  {
   "cell_type": "code",
   "execution_count": 109,
   "metadata": {
    "collapsed": false,
    "scrolled": false
   },
   "outputs": [
    {
     "name": "stdout",
     "output_type": "stream",
     "text": [
      "==================== learner-ddpg:replay ====================\n",
      "DN0a1f0454:main jirenz$  source activate surrealmjgym\n",
      " python -u -m surreal.main.ddpg.run_replay\n",
      "(surrealmjgym) DN0a1f0454:main jirenz$  python -u -m surreal.main.ddpg.run_replay\n",
      "==================== learner-ddpg:learner ====================\n",
      "DN0a1f0454:main jirenz$  source activate surrealmjgym\n",
      " python -u -m surreal.main.ddpg.run_learner\n",
      "(surrealmjgym) DN0a1f0454:main jirenz$  python -u -m surreal.main.ddpg.run_learner\n",
      "==================== learner-ddpg:eval_d ====================\n",
      "DN0a1f0454:main jirenz$  source activate surrealmjgym\n",
      " python -u -m surreal.main.ddpg.run_eval --mode eval_deterministic\n",
      "(surrealmjgym) DN0a1f0454:main jirenz$  python -u -m surreal.main.ddpg.run_eval --mode eval_deterministic\n"
     ]
    }
   ],
   "source": [
    "stdout('learner')"
   ]
  },
  {
   "cell_type": "code",
   "execution_count": 110,
   "metadata": {
    "collapsed": false,
    "scrolled": false
   },
   "outputs": [
    {
     "name": "stdout",
     "output_type": "stream",
     "text": [
      "==================== infras-ddpg:loggerplex ====================\n",
      "Restored session: Fri Jan 19 22:06:21 PST 2018\n",
      "DN0a1f0454:main jirenz$  source activate surrealmjgym\n",
      " python -u -m surreal.session.run_loggerplex_server '{\"sender\": {\"flush_time\": 0, \"flush_iteration\": 100}, \"ps\": {\"publish_port\": 7004, \"port\": 7003, \"publish_host\": \"localhost\", \"host\": \"localhost\"}, \"replay\": {\"sampler_host\": \"localhost\", \"port\": 7001, \"max_puller_queue\": 10000, \"evict_interval\": 0.0, \"sampler_port\": 7002, \"max_prefetch_batch_queue\": 10, \"host\": \"localhost\", \"tensorboard_display\": true}, \"folder\": \"/tmp/halfcheetah\", \"loggerplex\": {\"port\": 7006, \"show_level\": true, \"host\": \"localhost\", \"level\": \"info\", \"time_format\": \"hms\", \"overwrite\": false}, \"tensorplex\": {\"port\": 7005, \"host\": \"localhost\", \"agent_bin_size\": 8, \"update_schedule\": {\"eval_env\": 5, \"eval_env_sleep\": 30, \"learner\": 20, \"training_env\": 20, \"agent\": 50}, \"max_processes\": 4, \"tensorboard_port\": 6006}}'\n",
      "(surrealmjgym) DN0a1f0454:main jirenz$  python -u -m surreal.session.run_loggerplex_server '{\"sender\": {\"flush_time\": 0, \"flush_iteration\": 100}, \"ps\": {\"publish_port\": 7004, \"port\": 7003, \"publish_host\": \"localhost\", \"host\": \"localhost\"}, \"replay\": {\"sampler_host\": \"localhost\", \"port\": 7001, \"max_puller_queue\": 10000, \"evict_interval\": 0.0, \"sampler_port\": 7002, \"max_prefetch_batch_queue\": 10, \"host\": \"localhost\", \"tensorboard_display\": true}, \"folder\": \"/tmp/halfcheetah\", \"loggerplex\": {\"port\": 7006, \"show_level\": true, \"host\": \"localhost\", \"level\": \"info\", \"time_format\": \"hms\", \"overwrite\": false}, \"tensorplex\": {\"port\": 7005, \"host\": \"localhost\", \"agent_bin_size\": 8, \"update_schedule\": {\"eval_env\": 5, \"eval_env_sleep\": 30, \"learner\": 20, \"training_env\": 20, \"agent\": 50}, \"max_processes\n",
      "\": 4, \"tensorboard_port\": 6006}}'\n",
      "==================== infras-ddpg:tensorplex ====================\n",
      "DN0a1f0454:main jirenz$  source activate surrealmjgym\n",
      " python -u -m surreal.session.run_tensorplex_server '{\"sender\": {\"flush_time\": 0, \"flush_iteration\": 100}, \"ps\": {\"publish_port\": 7004, \"port\": 7003, \"publish_host\": \"localhost\", \"host\": \"localhost\"}, \"replay\": {\"sampler_host\": \"localhost\", \"port\": 7001, \"max_puller_queue\": 10000, \"evict_interval\": 0.0, \"sampler_port\": 7002, \"max_prefetch_batch_queue\": 10, \"host\": \"localhost\", \"tensorboard_display\": true}, \"folder\": \"/tmp/halfcheetah\", \"loggerplex\": {\"port\": 7006, \"show_level\": true, \"host\": \"localhost\", \"level\": \"info\", \"time_format\": \"hms\", \"overwrite\": false}, \"tensorplex\": {\"port\": 7005, \"host\": \"localhost\", \"agent_bin_size\": 8, \"update_schedule\": {\"eval_env\": 5, \"eval_env_sleep\": 30, \"learner\": 20, \"training_env\": 20, \"agent\": 50}, \"max_processes\": 4, \"tensorboard_port\": 6006}}'\n",
      "(surrealmjgym) DN0a1f0454:main jirenz$  python -u -m surreal.session.run_tensorplex_server '{\"sender\": {\"flush_time\": 0, \"flush_iteration\": 100}, \"ps\": {\"publish_port\": 7004, \"port\": 7003, \"publish_host\": \"localhost\", \"host\": \"localhost\"}, \"replay\": {\"sampler_host\": \"localhost\", \"port\": 7001, \"max_puller_queue\": 10000, \"evict_interval\": 0.0, \"sampler_port\": 7002, \"max_prefetch_batch_queue\": 10, \"host\": \"localhost\", \"tensorboard_display\": true}, \"folder\": \"/tmp/halfcheetah\", \"loggerplex\": {\"port\": 7006, \"show_level\": true, \"host\": \"localhost\", \"level\": \"info\", \"time_format\": \"hms\", \"overwrite\": false}, \"tensorplex\": {\"port\": 7005, \"host\": \"localhost\", \"agent_bin_size\": 8, \"update_schedule\": {\"eval_env\": 5, \"eval_env_sleep\": 30, \"learner\": 20, \"training_env\": 20, \"agent\": 50}, \"max_processes\n",
      "\": 4, \"tensorboard_port\": 6006}}'\n",
      "==================== infras-ddpg:tensorboard ====================\n",
      "DN0a1f0454:main jirenz$  source activate surrealmjgym\n",
      " tensorboard --logdir /tmp/halfcheetah --port 6006\n",
      "(surrealmjgym) DN0a1f0454:main jirenz$  tensorboard --logdir /tmp/halfcheetah --port 6006\n",
      "TensorBoard 0.4.0rc3 at http://DN0a1f0454.SUNet:6006 (Press CTRL+C to quit)\n",
      "==================== infras-ddpg:ps ====================\n",
      "DN0a1f0454:main jirenz$  source activate surrealmjgym\n",
      " python -u -m surreal.session.run_parameter_server '{\"sender\": {\"flush_time\": 0, \"flush_iteration\": 100}, \"ps\": {\"publish_port\": 7004, \"port\": 7003, \"publish_host\": \"localhost\", \"host\": \"localhost\"}, \"replay\": {\"sampler_host\": \"localhost\", \"port\": 7001, \"max_puller_queue\": 10000, \"evict_interval\": 0.0, \"sampler_port\": 7002, \"max_prefetch_batch_queue\": 10, \"host\": \"localhost\", \"tensorboard_display\": true}, \"folder\": \"/tmp/halfcheetah\", \"loggerplex\": {\"port\": 7006, \"show_level\": true, \"host\": \"localhost\", \"level\": \"info\", \"time_format\": \"hms\", \"overwrite\": false}, \"tensorplex\": {\"port\": 7005, \"host\": \"localhost\", \"agent_bin_size\": 8, \"update_schedule\": {\"eval_env\": 5, \"eval_env_sleep\": 30, \"learner\": 20, \"training_env\": 20, \"agent\": 50}, \"max_processes\": 4, \"tensorboard_port\": 6006}}'\n",
      "(surrealmjgym) DN0a1f0454:main jirenz$  python -u -m surreal.session.run_parameter_server '{\"sender\": {\"flush_time\": 0, \"flush_iteration\": 100}, \"ps\": {\"publish_port\": 7004, \"port\": 7003, \"publish_host\": \"localhost\", \"host\": \"localhost\"}, \"replay\": {\"sampler_host\": \"localhost\", \"port\": 7001, \"max_puller_queue\": 10000, \"evict_interval\": 0.0, \"sampler_port\": 7002, \"max_prefetch_batch_queue\": 10, \"host\": \"localhost\", \"tensorboard_display\": true}, \"folder\": \"/tmp/halfcheetah\", \"loggerplex\": {\"port\": 7006, \"show_level\": true, \"host\": \"localhost\", \"level\": \"info\", \"time_format\": \"hms\", \"overwrite\": false}, \"tensorplex\": {\"port\": 7005, \"host\": \"localhost\", \"agent_bin_size\": 8, \"update_schedule\": {\"eval_env\": 5, \"eval_env_sleep\": 30, \"learner\": 20, \"training_env\": 20, \"agent\": 50}, \"max_processes\"\n",
      ": 4, \"tensorboard_port\": 6006}}'\n"
     ]
    }
   ],
   "source": [
    "stdout('infras')"
   ]
  },
  {
   "cell_type": "code",
   "execution_count": 111,
   "metadata": {
    "collapsed": false
   },
   "outputs": [
    {
     "name": "stdout",
     "output_type": "stream",
     "text": [
      "learner-ddpg:visual\t>>\tpython -u -m surreal.main.ddpg.run_eval --mode eval_deterministic --id 1 --render\n"
     ]
    }
   ],
   "source": [
    "cluster.add_evals(['visual'], ['--mode eval_deterministic --id 1 --render'])"
   ]
  },
  {
   "cell_type": "code",
   "execution_count": null,
   "metadata": {
    "collapsed": false
   },
   "outputs": [],
   "source": [
    "cluster.kill_evals(['visual'])"
   ]
  },
  {
   "cell_type": "code",
   "execution_count": null,
   "metadata": {
    "collapsed": false
   },
   "outputs": [],
   "source": [
    "add_agents(8,16)"
   ]
  },
  {
   "cell_type": "code",
   "execution_count": null,
   "metadata": {
    "collapsed": false
   },
   "outputs": [],
   "source": [
    "cluster.add_evals(['visuals'], ['--mode eval_stochastic --id 2 --render'])"
   ]
  },
  {
   "cell_type": "code",
   "execution_count": null,
   "metadata": {
    "collapsed": false
   },
   "outputs": [],
   "source": [
    "cluster._tmux.kill(cluster.learner_session, 'learner')"
   ]
  },
  {
   "cell_type": "code",
   "execution_count": null,
   "metadata": {
    "collapsed": true
   },
   "outputs": [],
   "source": []
  }
 ],
 "metadata": {
  "kernelspec": {
   "display_name": "surrealmjgym",
   "language": "python",
   "name": "surrealmjgym"
  },
  "language_info": {
   "codemirror_mode": {
    "name": "ipython",
    "version": 3
   },
   "file_extension": ".py",
   "mimetype": "text/x-python",
   "name": "python",
   "nbconvert_exporter": "python",
   "pygments_lexer": "ipython3",
   "version": "3.5.2"
  },
  "toc": {
   "nav_menu": {},
   "number_sections": true,
   "sideBar": true,
   "skip_h1_title": false,
   "toc_cell": false,
   "toc_position": {},
   "toc_section_display": "block",
   "toc_window_display": false
  },
  "varInspector": {
   "cols": {
    "lenName": 16,
    "lenType": 16,
    "lenVar": 40
   },
   "kernels_config": {
    "python": {
     "delete_cmd_postfix": "",
     "delete_cmd_prefix": "del ",
     "library": "var_list.py",
     "varRefreshCmd": "print(var_dic_list())"
    },
    "r": {
     "delete_cmd_postfix": ") ",
     "delete_cmd_prefix": "rm(",
     "library": "var_list.r",
     "varRefreshCmd": "cat(var_dic_list()) "
    }
   },
   "types_to_exclude": [
    "module",
    "function",
    "builtin_function_or_method",
    "instance",
    "_Feature"
   ],
   "window_display": false
  }
 },
 "nbformat": 4,
 "nbformat_minor": 1
}
