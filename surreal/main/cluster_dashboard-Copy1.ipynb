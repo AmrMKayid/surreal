{
 "cells": [
  {
   "cell_type": "code",
   "execution_count": 2,
   "metadata": {
    "collapsed": true,
    "init_cell": true
   },
   "outputs": [],
   "source": [
    "import importlib\n",
    "from surreal.session.jupyter.tmux_cluster import *"
   ]
  },
  {
   "cell_type": "code",
   "execution_count": 3,
   "metadata": {
    "code_folding": [],
    "collapsed": true,
    "init_cell": true
   },
   "outputs": [],
   "source": [
    "EXPERIMENT = 'dqn_cartpole'\n",
    "EXPERIMENT = 'ddpg'\n",
    "\n",
    "_pkg = 'surreal.main.' + EXPERIMENT + '.'\n",
    "config_pkg = importlib.import_module(_pkg + 'configs')\n",
    "session_config = config_pkg.session_config\n",
    "cluster = TmuxCluster(\n",
    "    cluster_name=EXPERIMENT,\n",
    "    session_config=session_config,\n",
    "    agent_script=_pkg + 'run_agent',\n",
    "    learner_script=_pkg + 'run_learner',\n",
    "    replay_script=_pkg + 'run_replay',\n",
    "    eval_script=_pkg + 'run_eval',\n",
    "    preamble_cmd='source activate surrealmjgym',\n",
    "    dry_run=0,\n",
    ")\n",
    "# magic method to enable shorthand commands\n",
    "set_cluster_var(globals(), 'cluster')"
   ]
  },
  {
   "cell_type": "code",
   "execution_count": 4,
   "metadata": {
    "collapsed": false
   },
   "outputs": [
    {
     "name": "stdout",
     "output_type": "stream",
     "text": [
      "Experiment folder \"/tmp/halfcheetah\" removed.\n"
     ]
    }
   ],
   "source": [
    "killall()"
   ]
  },
  {
   "cell_type": "code",
   "execution_count": 16,
   "metadata": {
    "collapsed": false
   },
   "outputs": [
    {
     "name": "stdout",
     "output_type": "stream",
     "text": [
      "session agent-ddpg killed\n",
      "session learner-ddpg killed\n",
      "session infras-ddpg killed\n",
      "Experiment folder \"/tmp/halfcheetah\" removed.\n",
      "infras-ddpg:loggerplex\t>>\tpython -u -m surreal.session.run_loggerplex_server '{\"replay\": {\"host\": \"localhost\", \"port\": 7001, \"evict_interval\": 0.0, \"max_puller_queue\": 10000, \"sampler_port\": 7002, \"sampler_host\": \"localhost\", \"tensorboard_display\": true, \"max_prefetch_batch_queue\": 10}, \"folder\": \"/tmp/halfcheetah\", \"tensorplex\": {\"update_schedule\": {\"eval_env_sleep\": 30, \"agent\": 50, \"learner\": 20, \"eval_env\": 5, \"training_env\": 20}, \"host\": \"localhost\", \"port\": 7005, \"tensorboard_port\": 6006, \"agent_bin_size\": 8, \"max_processes\": 4}, \"sender\": {\"flush_time\": 0, \"flush_iteration\": 100}, \"ps\": {\"publish_host\": \"localhost\", \"host\": \"localhost\", \"publish_port\": 7004, \"port\": 7003}, \"loggerplex\": {\"host\": \"localhost\", \"port\": 7006, \"time_format\": \"hms\", \"show_level\": true, \"overwrite\": false, \"level\": \"info\"}}'\n",
      "infras-ddpg:tensorplex\t>>\tpython -u -m surreal.session.run_tensorplex_server '{\"replay\": {\"host\": \"localhost\", \"port\": 7001, \"evict_interval\": 0.0, \"max_puller_queue\": 10000, \"sampler_port\": 7002, \"sampler_host\": \"localhost\", \"tensorboard_display\": true, \"max_prefetch_batch_queue\": 10}, \"folder\": \"/tmp/halfcheetah\", \"tensorplex\": {\"update_schedule\": {\"eval_env_sleep\": 30, \"agent\": 50, \"learner\": 20, \"eval_env\": 5, \"training_env\": 20}, \"host\": \"localhost\", \"port\": 7005, \"tensorboard_port\": 6006, \"agent_bin_size\": 8, \"max_processes\": 4}, \"sender\": {\"flush_time\": 0, \"flush_iteration\": 100}, \"ps\": {\"publish_host\": \"localhost\", \"host\": \"localhost\", \"publish_port\": 7004, \"port\": 7003}, \"loggerplex\": {\"host\": \"localhost\", \"port\": 7006, \"time_format\": \"hms\", \"show_level\": true, \"overwrite\": false, \"level\": \"info\"}}'\n",
      "infras-ddpg:tensorboard\t>>\ttensorboard --logdir /tmp/halfcheetah --port 6006\n",
      "infras-ddpg:ps\t>>\tpython -u -m surreal.session.run_parameter_server '{\"replay\": {\"host\": \"localhost\", \"port\": 7001, \"evict_interval\": 0.0, \"max_puller_queue\": 10000, \"sampler_port\": 7002, \"sampler_host\": \"localhost\", \"tensorboard_display\": true, \"max_prefetch_batch_queue\": 10}, \"folder\": \"/tmp/halfcheetah\", \"tensorplex\": {\"update_schedule\": {\"eval_env_sleep\": 30, \"agent\": 50, \"learner\": 20, \"eval_env\": 5, \"training_env\": 20}, \"host\": \"localhost\", \"port\": 7005, \"tensorboard_port\": 6006, \"agent_bin_size\": 8, \"max_processes\": 4}, \"sender\": {\"flush_time\": 0, \"flush_iteration\": 100}, \"ps\": {\"publish_host\": \"localhost\", \"host\": \"localhost\", \"publish_port\": 7004, \"port\": 7003}, \"loggerplex\": {\"host\": \"localhost\", \"port\": 7006, \"time_format\": \"hms\", \"show_level\": true, \"overwrite\": false, \"level\": \"info\"}}'\n",
      "learner-ddpg:replay\t>>\tpython -u -m surreal.main.ddpg.run_replay\n",
      "learner-ddpg:learner\t>>\tpython -u -m surreal.main.ddpg.run_learner\n",
      "learner-ddpg:eval_d\t>>\tpython -u -m surreal.main.ddpg.run_eval --mode eval_deterministic\n",
      "agent-ddpg:A0\t>>\tpython -u -m surreal.main.ddpg.run_agent 0\n",
      "agent-ddpg:A1\t>>\tpython -u -m surreal.main.ddpg.run_agent 1\n",
      "No error found in cluster.\n"
     ]
    }
   ],
   "source": [
    "killall()\n",
    "sleep(1)\n",
    "launch(0, 2, eval=0)\n",
    "sleep(2)\n",
    "error()"
   ]
  },
  {
   "cell_type": "code",
   "execution_count": 17,
   "metadata": {
    "collapsed": false,
    "scrolled": true
   },
   "outputs": [
    {
     "name": "stdout",
     "output_type": "stream",
     "text": [
      "==================== agent-ddpg:A0 ====================\n",
      "DN51ucbr:main jirenz$  source activate surrealmjgym\n",
      " python -u -m surreal.main.ddpg.run_agent 0\n",
      "(surrealmjgym) DN51ucbr:main jirenz$  python -u -m surreal.main.ddpg.run_agent 0\n",
      "==================== agent-ddpg:A1 ====================\n",
      "DN51ucbr:main jirenz$  source activate surrealmjgym\n",
      " python -u -m surreal.main.ddpg.run_agent 1\n",
      "(surrealmjgym) DN51ucbr:main jirenz$  python -u -m surreal.main.ddpg.run_agent 1\n"
     ]
    }
   ],
   "source": [
    "stdout('agent')"
   ]
  },
  {
   "cell_type": "code",
   "execution_count": 18,
   "metadata": {
    "collapsed": false
   },
   "outputs": [
    {
     "name": "stdout",
     "output_type": "stream",
     "text": [
      "==================== learner-ddpg:replay ====================\n",
      "DN51ucbr:main jirenz$  source activate surrealmjgym\n",
      " python -u -m surreal.main.ddpg.run_replay\n",
      "(surrealmjgym) DN51ucbr:main jirenz$  python -u -m surreal.main.ddpg.run_replay\n",
      "==================== learner-ddpg:learner ====================\n",
      "DN51ucbr:main jirenz$  source activate surrealmjgym\n",
      " python -u -m surreal.main.ddpg.run_learner\n",
      "(surrealmjgym) DN51ucbr:main jirenz$  python -u -m surreal.main.ddpg.run_learner\n",
      "rewards <class 'numpy.ndarray'> (256, 5)\n",
      "observations <class 'numpy.ndarray'> (256, 5, 17)\n",
      "dones <class 'numpy.ndarray'> (256, 5)\n",
      "actions <class 'numpy.ndarray'> (256, 5, 6)\n",
      "Traceback (most recent call last):\n",
      "  File \"/Users/jirenz/anaconda/envs/surrealmjgym/lib/python3.5/runpy.py\", line 184, in _run_module_as_main\n",
      "    \"__main__\", mod_spec)\n",
      "  File \"/Users/jirenz/anaconda/envs/surrealmjgym/lib/python3.5/runpy.py\", line 85, in _run_code\n",
      "    exec(code, run_globals)\n",
      "  File \"/Users/jirenz/Dropbox/Projects/AdversarialRL/Surreal/surreal/main/ddpg/run_learner.py\", line 11, in <module>\n",
      "    session_config=session_config,\n",
      "  File \"/Users/jirenz/Dropbox/Projects/AdversarialRL/Surreal/surreal/main/basic_boilerplate.py\", line 144, in run_learner_main\n",
      "    learner.learn(batch)\n",
      "  File \"/Users/jirenz/Dropbox/Projects/AdversarialRL/Surreal/surreal/learner/ddpg.py\", line 108, in learn\n",
      "    batch.obs,\n",
      "AttributeError: 'dict' object has no attribute 'obs'\n",
      "==================== learner-ddpg:eval_d ====================\n",
      "DN51ucbr:main jirenz$  source activate surrealmjgym\n",
      " python -u -m surreal.main.ddpg.run_eval --mode eval_deterministic\n",
      "(surrealmjgym) DN51ucbr:main jirenz$  python -u -m surreal.main.ddpg.run_eval --mode eval_deterministic\n"
     ]
    }
   ],
   "source": [
    "stdout('learner')"
   ]
  },
  {
   "cell_type": "code",
   "execution_count": 19,
   "metadata": {
    "collapsed": false
   },
   "outputs": [
    {
     "name": "stdout",
     "output_type": "stream",
     "text": [
      "==================== infras-ddpg:loggerplex ====================\n",
      "Restored session: Tue Jan 16 17:05:34 PST 2018\n",
      "DN51ucbr:main jirenz$  source activate surrealmjgym\n",
      " python -u -m surreal.session.run_loggerplex_server '{\"replay\": {\"host\": \"localhost\", \"port\": 7001, \"evict_interval\": 0.0, \"max_puller_queue\": 10000, \"sampler_port\": 7002, \"sampler_host\": \"localhost\", \"tensorboard_display\": true, \"max_prefetch_batch_queue\": 10}, \"folder\": \"/tmp/halfcheetah\", \"tensorplex\": {\"update_schedule\": {\"eval_env_sleep\": 30, \"agent\": 50, \"learner\": 20, \"eval_env\": 5, \"training_env\": 20}, \"host\": \"localhost\", \"port\": 7005, \"tensorboard_port\": 6006, \"agent_bin_size\": 8, \"max_processes\": 4}, \"sender\": {\"flush_time\": 0, \"flush_iteration\": 100}, \"ps\": {\"publish_host\": \"localhost\", \"host\": \"localhost\", \"publish_port\": 7004, \"port\": 7003}, \"loggerplex\": {\"host\": \"localhost\", \"port\": 7006, \"time_format\": \"hms\", \"show_level\": true, \"overwrite\": false, \"level\": \"info\"}}'\n",
      "(surrealmjgym) DN51ucbr:main jirenz$  python -u -m surreal.session.run_loggerplex_server '{\"replay\": {\"host\": \"localhost\", \"port\": 7001, \"evict_interval\": 0.0, \"max_puller_queue\": 10000, \"sampler_port\": 7002, \"sampler_host\": \"localhost\", \"tensorboard_display\": true, \"max_prefetch_batch_queue\": 10}, \"folder\": \"/tmp/halfcheetah\", \"tensorplex\": {\"update_schedule\": {\"eval_env_sleep\": 30, \"agent\": 50, \"learner\": 20, \"eval_env\": 5, \"training_env\": 20}, \"host\": \"localhost\", \"port\": 7005, \"tensorboard_port\": 6006, \"agent_bin_size\": 8, \"max_processes\": 4}, \"sender\": {\"flush_time\": 0, \"flush_iteration\": 100}, \"ps\": {\"publish_host\": \"localhost\", \"host\": \"localhost\", \"publish_port\": 7004, \"port\": 7003}, \"loggerplex\": {\"host\": \"localhost\", \"port\": 7006, \"time_format\": \"hms\", \"show_level\": true, \"overwr\n",
      "ite\": false, \"level\": \"info\"}}'\n",
      "==================== infras-ddpg:tensorplex ====================\n",
      "DN51ucbr:main jirenz$  source activate surrealmjgym\n",
      " python -u -m surreal.session.run_tensorplex_server '{\"replay\": {\"host\": \"localhost\", \"port\": 7001, \"evict_interval\": 0.0, \"max_puller_queue\": 10000, \"sampler_port\": 7002, \"sampler_host\": \"localhost\", \"tensorboard_display\": true, \"max_prefetch_batch_queue\": 10}, \"folder\": \"/tmp/halfcheetah\", \"tensorplex\": {\"update_schedule\": {\"eval_env_sleep\": 30, \"agent\": 50, \"learner\": 20, \"eval_env\": 5, \"training_env\": 20}, \"host\": \"localhost\", \"port\": 7005, \"tensorboard_port\": 6006, \"agent_bin_size\": 8, \"max_processes\": 4}, \"sender\": {\"flush_time\": 0, \"flush_iteration\": 100}, \"ps\": {\"publish_host\": \"localhost\", \"host\": \"localhost\", \"publish_port\": 7004, \"port\": 7003}, \"loggerplex\": {\"host\": \"localhost\", \"port\": 7006, \"time_format\": \"hms\", \"show_level\": true, \"overwrite\": false, \"level\": \"info\"}}'\n",
      "(surrealmjgym) DN51ucbr:main jirenz$  python -u -m surreal.session.run_tensorplex_server '{\"replay\": {\"host\": \"localhost\", \"port\": 7001, \"evict_interval\": 0.0, \"max_puller_queue\": 10000, \"sampler_port\": 7002, \"sampler_host\": \"localhost\", \"tensorboard_display\": true, \"max_prefetch_batch_queue\": 10}, \"folder\": \"/tmp/halfcheetah\", \"tensorplex\": {\"update_schedule\": {\"eval_env_sleep\": 30, \"agent\": 50, \"learner\": 20, \"eval_env\": 5, \"training_env\": 20}, \"host\": \"localhost\", \"port\": 7005, \"tensorboard_port\": 6006, \"agent_bin_size\": 8, \"max_processes\": 4}, \"sender\": {\"flush_time\": 0, \"flush_iteration\": 100}, \"ps\": {\"publish_host\": \"localhost\", \"host\": \"localhost\", \"publish_port\": 7004, \"port\": 7003}, \"loggerplex\": {\"host\": \"localhost\", \"port\": 7006, \"time_format\": \"hms\", \"show_level\": true, \"overwr\n",
      "ite\": false, \"level\": \"info\"}}'\n",
      "==================== infras-ddpg:tensorboard ====================\n",
      "DN51ucbr:main jirenz$  source activate surrealmjgym\n",
      " tensorboard --logdir /tmp/halfcheetah --port 6006\n",
      "(surrealmjgym) DN51ucbr:main jirenz$  tensorboard --logdir /tmp/halfcheetah --port 6006\n",
      "TensorBoard 0.4.0rc3 at http://DN51ucbr.SUNet:6006 (Press CTRL+C to quit)\n",
      "==================== infras-ddpg:ps ====================\n",
      "DN51ucbr:main jirenz$  source activate surrealmjgym\n",
      " python -u -m surreal.session.run_parameter_server '{\"replay\": {\"host\": \"localhost\", \"port\": 7001, \"evict_interval\": 0.0, \"max_puller_queue\": 10000, \"sampler_port\": 7002, \"sampler_host\": \"localhost\", \"tensorboard_display\": true, \"max_prefetch_batch_queue\": 10}, \"folder\": \"/tmp/halfcheetah\", \"tensorplex\": {\"update_schedule\": {\"eval_env_sleep\": 30, \"agent\": 50, \"learner\": 20, \"eval_env\": 5, \"training_env\": 20}, \"host\": \"localhost\", \"port\": 7005, \"tensorboard_port\": 6006, \"agent_bin_size\": 8, \"max_processes\": 4}, \"sender\": {\"flush_time\": 0, \"flush_iteration\": 100}, \"ps\": {\"publish_host\": \"localhost\", \"host\": \"localhost\", \"publish_port\": 7004, \"port\": 7003}, \"loggerplex\": {\"host\": \"localhost\", \"port\": 7006, \"time_format\": \"hms\", \"show_level\": true, \"overwrite\": false, \"level\": \"info\"}}'\n",
      "(surrealmjgym) DN51ucbr:main jirenz$  python -u -m surreal.session.run_parameter_server '{\"replay\": {\"host\": \"localhost\", \"port\": 7001, \"evict_interval\": 0.0, \"max_puller_queue\": 10000, \"sampler_port\": 7002, \"sampler_host\": \"localhost\", \"tensorboard_display\": true, \"max_prefetch_batch_queue\": 10}, \"folder\": \"/tmp/halfcheetah\", \"tensorplex\": {\"update_schedule\": {\"eval_env_sleep\": 30, \"agent\": 50, \"learner\": 20, \"eval_env\": 5, \"training_env\": 20}, \"host\": \"localhost\", \"port\": 7005, \"tensorboard_port\": 6006, \"agent_bin_size\": 8, \"max_processes\": 4}, \"sender\": {\"flush_time\": 0, \"flush_iteration\": 100}, \"ps\": {\"publish_host\": \"localhost\", \"host\": \"localhost\", \"publish_port\": 7004, \"port\": 7003}, \"loggerplex\": {\"host\": \"localhost\", \"port\": 7006, \"time_format\": \"hms\", \"show_level\": true, \"overwri\n",
      "te\": false, \"level\": \"info\"}}'\n"
     ]
    }
   ],
   "source": [
    "stdout('infras')"
   ]
  },
  {
   "cell_type": "code",
   "execution_count": 7,
   "metadata": {
    "collapsed": false
   },
   "outputs": [
    {
     "name": "stdout",
     "output_type": "stream",
     "text": [
      "learner-ddpg:visual\t>>\tpython -u -m surreal.main.ddpg.run_eval --mode eval_deterministic --id 1 --render\n"
     ]
    }
   ],
   "source": [
    "cluster.add_evals(['visual'], ['--mode eval_deterministic --id 1 --render'])"
   ]
  },
  {
   "cell_type": "code",
   "execution_count": 8,
   "metadata": {
    "collapsed": false
   },
   "outputs": [
    {
     "name": "stdout",
     "output_type": "stream",
     "text": [
      "learner-ddpg:visual killed\n"
     ]
    }
   ],
   "source": [
    "cluster.kill_evals(['visual'])"
   ]
  },
  {
   "cell_type": "code",
   "execution_count": null,
   "metadata": {
    "collapsed": false
   },
   "outputs": [],
   "source": [
    "add_agents(8,16)"
   ]
  },
  {
   "cell_type": "code",
   "execution_count": 21,
   "metadata": {
    "collapsed": false
   },
   "outputs": [
    {
     "name": "stdout",
     "output_type": "stream",
     "text": [
      "learner-ddpg:visuals\t>>\tpython -u -m surreal.main.ddpg.run_eval --mode eval_stochastic --id 2 --render\n"
     ]
    }
   ],
   "source": [
    "cluster.add_evals(['visuals'], ['--mode eval_stochastic --id 2 --render'])"
   ]
  },
  {
   "cell_type": "code",
   "execution_count": null,
   "metadata": {
    "collapsed": true
   },
   "outputs": [],
   "source": []
  }
 ],
 "metadata": {
  "kernelspec": {
   "display_name": "surrealmjgym",
   "language": "python",
   "name": "surrealmjgym"
  },
  "language_info": {
   "codemirror_mode": {
    "name": "ipython",
    "version": 3
   },
   "file_extension": ".py",
   "mimetype": "text/x-python",
   "name": "python",
   "nbconvert_exporter": "python",
   "pygments_lexer": "ipython3",
   "version": "3.5.2"
  },
  "toc": {
   "nav_menu": {},
   "number_sections": true,
   "sideBar": true,
   "skip_h1_title": false,
   "toc_cell": false,
   "toc_position": {},
   "toc_section_display": "block",
   "toc_window_display": false
  },
  "varInspector": {
   "cols": {
    "lenName": 16,
    "lenType": 16,
    "lenVar": 40
   },
   "kernels_config": {
    "python": {
     "delete_cmd_postfix": "",
     "delete_cmd_prefix": "del ",
     "library": "var_list.py",
     "varRefreshCmd": "print(var_dic_list())"
    },
    "r": {
     "delete_cmd_postfix": ") ",
     "delete_cmd_prefix": "rm(",
     "library": "var_list.r",
     "varRefreshCmd": "cat(var_dic_list()) "
    }
   },
   "types_to_exclude": [
    "module",
    "function",
    "builtin_function_or_method",
    "instance",
    "_Feature"
   ],
   "window_display": false
  }
 },
 "nbformat": 4,
 "nbformat_minor": 1
}
