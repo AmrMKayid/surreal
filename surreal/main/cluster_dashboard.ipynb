{
 "cells": [
  {
   "cell_type": "code",
   "execution_count": 1,
   "metadata": {
    "collapsed": false,
    "init_cell": true
   },
   "outputs": [],
   "source": [
    "import importlib\n",
    "from surreal.session.jupyter.tmux_cluster import *"
   ]
  },
  {
   "cell_type": "code",
   "execution_count": 2,
   "metadata": {
    "code_folding": [],
    "collapsed": false,
    "init_cell": true
   },
   "outputs": [],
   "source": [
    "EXPERIMENT = 'dm_control'\n",
    "\n",
    "_pkg = 'surreal.main.' + EXPERIMENT + '.'\n",
    "config_pkg_name = _pkg + 'configs'\n",
    "config_pkg = importlib.import_module(config_pkg_name)\n",
    "path = '/Users/jirenz/Dropbox/Projects/AdversarialRL/Surreal/surreal/main/dm_control/'\n",
    "session_config = config_pkg.session_config\n",
    "cluster = TmuxCluster(\n",
    "    cluster_name=EXPERIMENT,\n",
    "    session_config=session_config,\n",
    "    agent_script=' '.join(['python', path + 'run_agent.py', config_pkg_name]),\n",
    "    learner_script=' '.join(['python', path + 'run_learner.py', config_pkg_name]),\n",
    "    replay_script=' '.join(['python', path + 'run_replay.py', config_pkg_name]),\n",
    "    eval_script=' '.join(['python', path + 'run_eval.py', config_pkg_name]),\n",
    "    preamble_cmd='source activate surreal',\n",
    "    dry_run=0,\n",
    ")\n",
    "# magic method to enable shorthand commands\n",
    "set_cluster_var(globals(), 'cluster')"
   ]
  },
  {
   "cell_type": "code",
   "execution_count": 232,
   "metadata": {
    "collapsed": false
   },
   "outputs": [
    {
     "name": "stdout",
     "output_type": "stream",
     "text": [
      "session agent-dm_control killed\n",
      "session learner-dm_control killed\n",
      "session infras-dm_control killed\n",
      "Experiment folder \"~/Temp/dm_control\" removed.\n"
     ]
    }
   ],
   "source": [
    "killall()"
   ]
  },
  {
   "cell_type": "code",
   "execution_count": 233,
   "metadata": {
    "collapsed": false
   },
   "outputs": [
    {
     "name": "stdout",
     "output_type": "stream",
     "text": [
      "Experiment folder \"~/Temp/dm_control\" removed.\n",
      "infras-dm_control:loggerplex\t>>\tpython -u -m surreal.session.run_loggerplex_server '{\"ps\": {\"publish_port\": 7004, \"port\": 7003, \"host\": \"localhost\", \"publish_host\": \"localhost\"}, \"loggerplex\": {\"host\": \"localhost\", \"port\": 7006, \"overwrite\": false, \"time_format\": \"hms\", \"level\": \"info\", \"show_level\": true}, \"agent\": {\"fetch_parameter_mode\": \"episode\"}, \"replay\": {\"sampler_port\": 7002, \"host\": \"localhost\", \"tensorboard_display\": true, \"sampler_host\": \"localhost\", \"max_prefetch_batch_queue\": 10, \"port\": 7001, \"evict_interval\": 0.0, \"max_puller_queue\": 10000}, \"sender\": {\"flush_time\": 0, \"flush_iteration\": 100}, \"folder\": \"~/Temp/dm_control\", \"tensorplex\": {\"host\": \"localhost\", \"agent_bin_size\": 8, \"max_processes\": 4, \"tensorboard_port\": 6006, \"update_schedule\": {\"eval_env\": 20, \"eval_env_sleep\": 30, \"training_env\": 20, \"learner\": 20, \"agent\": 20}, \"port\": 7005}}'\n",
      "infras-dm_control:tensorplex\t>>\tpython -u -m surreal.session.run_tensorplex_server '{\"ps\": {\"publish_port\": 7004, \"port\": 7003, \"host\": \"localhost\", \"publish_host\": \"localhost\"}, \"loggerplex\": {\"host\": \"localhost\", \"port\": 7006, \"overwrite\": false, \"time_format\": \"hms\", \"level\": \"info\", \"show_level\": true}, \"agent\": {\"fetch_parameter_mode\": \"episode\"}, \"replay\": {\"sampler_port\": 7002, \"host\": \"localhost\", \"tensorboard_display\": true, \"sampler_host\": \"localhost\", \"max_prefetch_batch_queue\": 10, \"port\": 7001, \"evict_interval\": 0.0, \"max_puller_queue\": 10000}, \"sender\": {\"flush_time\": 0, \"flush_iteration\": 100}, \"folder\": \"~/Temp/dm_control\", \"tensorplex\": {\"host\": \"localhost\", \"agent_bin_size\": 8, \"max_processes\": 4, \"tensorboard_port\": 6006, \"update_schedule\": {\"eval_env\": 20, \"eval_env_sleep\": 30, \"training_env\": 20, \"learner\": 20, \"agent\": 20}, \"port\": 7005}}'\n",
      "infras-dm_control:tensorboard\t>>\ttensorboard --logdir ~/Temp/dm_control --port 6006\n",
      "infras-dm_control:ps\t>>\tpython -u -m surreal.session.run_parameter_server '{\"ps\": {\"publish_port\": 7004, \"port\": 7003, \"host\": \"localhost\", \"publish_host\": \"localhost\"}, \"loggerplex\": {\"host\": \"localhost\", \"port\": 7006, \"overwrite\": false, \"time_format\": \"hms\", \"level\": \"info\", \"show_level\": true}, \"agent\": {\"fetch_parameter_mode\": \"episode\"}, \"replay\": {\"sampler_port\": 7002, \"host\": \"localhost\", \"tensorboard_display\": true, \"sampler_host\": \"localhost\", \"max_prefetch_batch_queue\": 10, \"port\": 7001, \"evict_interval\": 0.0, \"max_puller_queue\": 10000}, \"sender\": {\"flush_time\": 0, \"flush_iteration\": 100}, \"folder\": \"~/Temp/dm_control\", \"tensorplex\": {\"host\": \"localhost\", \"agent_bin_size\": 8, \"max_processes\": 4, \"tensorboard_port\": 6006, \"update_schedule\": {\"eval_env\": 20, \"eval_env_sleep\": 30, \"training_env\": 20, \"learner\": 20, \"agent\": 20}, \"port\": 7005}}'\n",
      "learner-dm_control:replay\t>>\tpython /Users/jirenz/Dropbox/Projects/AdversarialRL/Surreal/surreal/main/dm_control/run_replay.py surreal.main.dm_control.configs\n",
      "learner-dm_control:learner\t>>\tpython /Users/jirenz/Dropbox/Projects/AdversarialRL/Surreal/surreal/main/dm_control/run_learner.py surreal.main.dm_control.configs\n",
      "learner-dm_control:eval_d\t>>\tpython /Users/jirenz/Dropbox/Projects/AdversarialRL/Surreal/surreal/main/dm_control/run_eval.py surreal.main.dm_control.configs --mode eval_deterministic\n",
      "agent-dm_control:A0\t>>\tpython /Users/jirenz/Dropbox/Projects/AdversarialRL/Surreal/surreal/main/dm_control/run_agent.py surreal.main.dm_control.configs 0\n",
      "agent-dm_control:A1\t>>\tpython /Users/jirenz/Dropbox/Projects/AdversarialRL/Surreal/surreal/main/dm_control/run_agent.py surreal.main.dm_control.configs 1\n",
      "No error found in cluster.\n"
     ]
    }
   ],
   "source": [
    "killall()\n",
    "sleep(1)\n",
    "launch(0, 2, eval=0)\n",
    "sleep(2)\n",
    "error()"
   ]
  },
  {
   "cell_type": "code",
   "execution_count": 238,
   "metadata": {
    "collapsed": false,
    "scrolled": false
   },
   "outputs": [
    {
     "name": "stdout",
     "output_type": "stream",
     "text": [
      "==================== agent-dm_control:A0 ====================\n",
      "DNab42190a:main jirenz$  source activate surreal\n",
      " python /Users/jirenz/Dropbox/Projects/AdversarialRL/Surreal/surreal/main/dm_control/run_agent.py surreal.main.dm_control.configs 0\n",
      "(surreal) DNab42190a:main jirenz$  python /Users/jirenz/Dropbox/Projects/AdversarialRL/Surreal/surreal/main/dm_control/run_agent.py surreal.main.dm_control.configs 0\n",
      "╒═════════════════╤═══════════╕\n",
      "│ Last 10 rewards │     3.463 │\n",
      "├─────────────────┼───────────┤\n",
      "│ Speed iter/s    │   521.8   │\n",
      "├─────────────────┼───────────┤\n",
      "│ Total steps     │ 10010     │\n",
      "├─────────────────┼───────────┤\n",
      "│ Episodes        │    10     │\n",
      "╘═════════════════╧═══════════╛\n",
      "╒═════════════════╤═══════════╕\n",
      "│ Last 10 rewards │     4.763 │\n",
      "├─────────────────┼───────────┤\n",
      "│ Speed iter/s    │   491.9   │\n",
      "├─────────────────┼───────────┤\n",
      "│ Total steps     │ 20020     │\n",
      "├─────────────────┼───────────┤\n",
      "│ Episodes        │    20     │\n",
      "╘═════════════════╧═══════════╛\n",
      "╒═════════════════╤═══════════╕\n",
      "│ Last 10 rewards │     4.763 │\n",
      "├─────────────────┼───────────┤\n",
      "│ Speed iter/s    │   728.1   │\n",
      "├─────────────────┼───────────┤\n",
      "│ Total steps     │ 30030     │\n",
      "├─────────────────┼───────────┤\n",
      "│ Episodes        │    30     │\n",
      "╘═════════════════╧═══════════╛\n",
      "╒═════════════════╤═══════════╕\n",
      "│ Last 10 rewards │     4.698 │\n",
      "├─────────────────┼───────────┤\n",
      "│ Speed iter/s    │   511.7   │\n",
      "├─────────────────┼───────────┤\n",
      "│ Total steps     │ 40040     │\n",
      "├─────────────────┼───────────┤\n",
      "│ Episodes        │    40     │\n",
      "╘═════════════════╧═══════════╛\n",
      "==================== agent-dm_control:A1 ====================\n",
      " source activate surreal\n",
      "DNab42190a:main jirenz$  source activate surreal\n",
      " python /Users/jirenz/Dropbox/Projects/AdversarialRL/Surreal/surreal/main/dm_control/run_agent.py surreal.main.dm_control.configs 1\n",
      "(surreal) DNab42190a:main jirenz$  python /Users/jirenz/Dropbox/Projects/AdversarialRL/Surreal/surreal/main/dm_control/run_agent.py surreal.main.dm_control.configs 1\n",
      "╒═════════════════╤═══════════╕\n",
      "│ Last 10 rewards │     4.018 │\n",
      "├─────────────────┼───────────┤\n",
      "│ Speed iter/s    │   521     │\n",
      "├─────────────────┼───────────┤\n",
      "│ Total steps     │ 10010     │\n",
      "├─────────────────┼───────────┤\n",
      "│ Episodes        │    10     │\n",
      "╘═════════════════╧═══════════╛\n",
      "╒═════════════════╤═══════════╕\n",
      "│ Last 10 rewards │     4.806 │\n",
      "├─────────────────┼───────────┤\n",
      "│ Speed iter/s    │   495.9   │\n",
      "├─────────────────┼───────────┤\n",
      "│ Total steps     │ 20020     │\n",
      "├─────────────────┼───────────┤\n",
      "│ Episodes        │    20     │\n",
      "╘═════════════════╧═══════════╛\n",
      "╒═════════════════╤═══════════╕\n",
      "│ Last 10 rewards │     4.815 │\n",
      "├─────────────────┼───────────┤\n",
      "│ Speed iter/s    │   708.3   │\n",
      "├─────────────────┼───────────┤\n",
      "│ Total steps     │ 30030     │\n",
      "├─────────────────┼───────────┤\n",
      "│ Episodes        │    30     │\n",
      "╘═════════════════╧═══════════╛\n",
      "╒═════════════════╤═══════════╕\n",
      "│ Last 10 rewards │     4.714 │\n",
      "├─────────────────┼───────────┤\n",
      "│ Speed iter/s    │   492.8   │\n",
      "├─────────────────┼───────────┤\n",
      "│ Total steps     │ 40040     │\n",
      "├─────────────────┼───────────┤\n",
      "│ Episodes        │    40     │\n",
      "╘═════════════════╧═══════════╛\n"
     ]
    }
   ],
   "source": [
    "stdout('agent')"
   ]
  },
  {
   "cell_type": "code",
   "execution_count": 235,
   "metadata": {
    "collapsed": false,
    "scrolled": false
   },
   "outputs": [
    {
     "name": "stdout",
     "output_type": "stream",
     "text": [
      "==================== learner-dm_control:replay ====================\n",
      "DNab42190a:main jirenz$  source activate surreal\n",
      " python /Users/jirenz/Dropbox/Projects/AdversarialRL/Surreal/surreal/main/dm_control/run_replay.py surreal.main.dm_control.configs\n",
      "(surreal) DNab42190a:main jirenz$  python /Users/jirenz/Dropbox/Projects/AdversarialRL/Surreal/surreal/main/dm_control/run_replay.py surreal.main.dm_control.configs\n",
      "==================== learner-dm_control:learner ====================\n",
      "DNab42190a:main jirenz$  source activate surreal\n",
      " python /Users/jirenz/Dropbox/Projects/AdversarialRL/Surreal/surreal/main/dm_control/run_learner.py surreal.main.dm_control.configs\n",
      "(surreal) DNab42190a:main jirenz$  python /Users/jirenz/Dropbox/Projects/AdversarialRL/Surreal/surreal/main/dm_control/run_learner.py surreal.main.dm_control.configs\n",
      "==================== learner-dm_control:eval_d ====================\n",
      "DNab42190a:main jirenz$  source activate surreal\n",
      " python /Users/jirenz/Dropbox/Projects/AdversarialRL/Surreal/surreal/main/dm_control/run_eval.py surreal.main.dm_control.configs --mode eval_deterministic\n",
      "(surreal) DNab42190a:main jirenz$  python /Users/jirenz/Dropbox/Projects/AdversarialRL/Surreal/surreal/main/dm_control/run_eval.py surreal.main.dm_control.configs --mode eval_deterministic\n"
     ]
    }
   ],
   "source": [
    "stdout('learner')"
   ]
  },
  {
   "cell_type": "code",
   "execution_count": 236,
   "metadata": {
    "collapsed": false
   },
   "outputs": [
    {
     "name": "stdout",
     "output_type": "stream",
     "text": [
      "==================== infras-dm_control:loggerplex ====================\n",
      "Restored session: Fri Jan  5 23:48:48 CST 2018\n",
      "DNab42190a:main jirenz$  source activate surreal\n",
      " python -u -m surreal.session.run_loggerplex_server '{\"ps\": {\"publish_port\": 7004, \"port\": 7003, \"host\": \"localhost\", \"publish_host\": \"localhost\"}, \"loggerplex\": {\"host\": \"localhost\", \"port\": 7006, \"overwrite\": false, \"time_format\": \"hms\", \"level\": \"info\", \"show_level\": true}, \"agent\": {\"fetch_parameter_mode\": \"episode\"}, \"replay\": {\"sampler_port\": 7002, \"host\": \"localhost\", \"tensorboard_display\": true, \"sampler_host\": \"localhost\", \"max_prefetch_batch_queue\": 10, \"port\": 7001, \"evict_interval\": 0.0, \"max_puller_queue\": 10000}, \"sender\": {\"flush_time\": 0, \"flush_iteration\": 100}, \"folder\": \"~/Temp/dm_control\", \"tensorplex\": {\"host\": \"localhost\", \"agent_bin_size\": 8, \"max_processes\": 4, \"tensorboard_port\": 6006, \"update_schedule\": {\"eval_env\": 20, \"eval_env_sleep\": 30, \"training_env\": 20, \"l\n",
      "earner\": 20, \"agent\": 20}, \"port\": 7005}}'\n",
      "(surreal) DNab42190a:main jirenz$  python -u -m surreal.session.run_loggerplex_server '{\"ps\": {\"publish_port\": 7004, \"port\": 7003, \"host\": \"localhost\", \"publish_host\": \"localhost\"}, \"loggerplex\": {\"host\": \"localhost\", \"port\": 7006, \"overwrite\": false, \"time_format\": \"hms\", \"level\": \"info\", \"show_level\": true}, \"agent\": {\"fetch_parameter_mode\": \"episode\"}, \"replay\": {\"sampler_port\": 7002, \"host\": \"localhost\", \"tensorboard_display\": true, \"sampler_host\": \"localhost\", \"max_prefetch_batch_queue\": 10, \"port\": 7001, \"evict_interval\": 0.0, \"max_puller_queue\": 10000}, \"sender\": {\"flush_time\": 0, \"flush_iteration\": 100}, \"folder\": \"~/Temp/dm_control\", \"tensorplex\": {\"host\": \"localhost\", \"agent_bin_size\": 8, \"max_processes\": 4, \"tensorboard_port\": 6006, \"update_schedule\": {\"eval_env\": 20, \"eval_env_\n",
      "sleep\": 30, \"training_env\": 20, \"learner\": 20, \"agent\": 20}, \"port\": 7005}}'\n",
      "==================== infras-dm_control:tensorplex ====================\n",
      "DNab42190a:main jirenz$  source activate surreal\n",
      " python -u -m surreal.session.run_tensorplex_server '{\"ps\": {\"publish_port\": 7004, \"port\": 7003, \"host\": \"localhost\", \"publish_host\": \"localhost\"}, \"loggerplex\": {\"host\": \"localhost\", \"port\": 7006, \"overwrite\": false, \"time_format\": \"hms\", \"level\": \"info\", \"show_level\": true}, \"agent\": {\"fetch_parameter_mode\": \"episode\"}, \"replay\": {\"sampler_port\": 7002, \"host\": \"localhost\", \"tensorboard_display\": true, \"sampler_host\": \"localhost\", \"max_prefetch_batch_queue\": 10, \"port\": 7001, \"evict_interval\": 0.0, \"max_puller_queue\": 10000}, \"sender\": {\"flush_time\": 0, \"flush_iteration\": 100}, \"folder\": \"~/Temp/dm_control\", \"tensorplex\": {\"host\": \"localhost\", \"agent_bin_size\": 8, \"max_processes\": 4, \"tensorboard_port\": 6006, \"update_schedule\": {\"eval_env\": 20, \"eval_env_sleep\": 30, \"training_env\": 20, \"l\n",
      "earner\": 20, \"agent\": 20}, \"port\": 7005}}'\n",
      "(surreal) DNab42190a:main jirenz$  python -u -m surreal.session.run_tensorplex_server '{\"ps\": {\"publish_port\": 7004, \"port\": 7003, \"host\": \"localhost\", \"publish_host\": \"localhost\"}, \"loggerplex\": {\"host\": \"localhost\", \"port\": 7006, \"overwrite\": false, \"time_format\": \"hms\", \"level\": \"info\", \"show_level\": true}, \"agent\": {\"fetch_parameter_mode\": \"episode\"}, \"replay\": {\"sampler_port\": 7002, \"host\": \"localhost\", \"tensorboard_display\": true, \"sampler_host\": \"localhost\", \"max_prefetch_batch_queue\": 10, \"port\": 7001, \"evict_interval\": 0.0, \"max_puller_queue\": 10000}, \"sender\": {\"flush_time\": 0, \"flush_iteration\": 100}, \"folder\": \"~/Temp/dm_control\", \"tensorplex\": {\"host\": \"localhost\", \"agent_bin_size\": 8, \"max_processes\": 4, \"tensorboard_port\": 6006, \"update_schedule\": {\"eval_env\": 20, \"eval_env_\n",
      "sleep\": 30, \"training_env\": 20, \"learner\": 20, \"agent\": 20}, \"port\": 7005}}'\n",
      "==================== infras-dm_control:tensorboard ====================\n",
      " source activate surreal\n",
      " tensorboard --logdir ~/Temp/dm_control --port 6006\n",
      "DNab42190a:main jirenz$  source activate surreal\n",
      " tensorboard --logdir ~/Temp/dm_control --port 6006\n",
      "(surreal) DNab42190a:main jirenz$  tensorboard --logdir ~/Temp/dm_control --port 6006\n",
      "TensorBoard 0.4.0rc3 at http://DNab42190a.stanford.edu:6006 (Press CTRL+C to quit)\n",
      "==================== infras-dm_control:ps ====================\n",
      "DNab42190a:main jirenz$  source activate surreal\n",
      " python -u -m surreal.session.run_parameter_server '{\"ps\": {\"publish_port\": 7004, \"port\": 7003, \"host\": \"localhost\", \"publish_host\": \"localhost\"}, \"loggerplex\": {\"host\": \"localhost\", \"port\": 7006, \"overwrite\": false, \"time_format\": \"hms\", \"level\": \"info\", \"show_level\": true}, \"agent\": {\"fetch_parameter_mode\": \"episode\"}, \"replay\": {\"sampler_port\": 7002, \"host\": \"localhost\", \"tensorboard_display\": true, \"sampler_host\": \"localhost\", \"max_prefetch_batch_queue\": 10, \"port\": 7001, \"evict_interval\": 0.0, \"max_puller_queue\": 10000}, \"sender\": {\"flush_time\": 0, \"flush_iteration\": 100}, \"folder\": \"~/Temp/dm_control\", \"tensorplex\": {\"host\": \"localhost\", \"agent_bin_size\": 8, \"max_processes\": 4, \"tensorboard_port\": 6006, \"update_schedule\": {\"eval_env\": 20, \"eval_env_sleep\": 30, \"training_env\": 20, \"le\n",
      "arner\": 20, \"agent\": 20}, \"port\": 7005}}'\n",
      "(surreal) DNab42190a:main jirenz$  python -u -m surreal.session.run_parameter_server '{\"ps\": {\"publish_port\": 7004, \"port\": 7003, \"host\": \"localhost\", \"publish_host\": \"localhost\"}, \"loggerplex\": {\"host\": \"localhost\", \"port\": 7006, \"overwrite\": false, \"time_format\": \"hms\", \"level\": \"info\", \"show_level\": true}, \"agent\": {\"fetch_parameter_mode\": \"episode\"}, \"replay\": {\"sampler_port\": 7002, \"host\": \"localhost\", \"tensorboard_display\": true, \"sampler_host\": \"localhost\", \"max_prefetch_batch_queue\": 10, \"port\": 7001, \"evict_interval\": 0.0, \"max_puller_queue\": 10000}, \"sender\": {\"flush_time\": 0, \"flush_iteration\": 100}, \"folder\": \"~/Temp/dm_control\", \"tensorplex\": {\"host\": \"localhost\", \"agent_bin_size\": 8, \"max_processes\": 4, \"tensorboard_port\": 6006, \"update_schedule\": {\"eval_env\": 20, \"eval_env_s\n",
      "leep\": 30, \"training_env\": 20, \"learner\": 20, \"agent\": 20}, \"port\": 7005}}'\n"
     ]
    }
   ],
   "source": [
    "stdout('infras')"
   ]
  },
  {
   "cell_type": "code",
   "execution_count": 200,
   "metadata": {
    "collapsed": false
   },
   "outputs": [
    {
     "name": "stdout",
     "output_type": "stream",
     "text": [
      "learner-dm_control:visual\t>>\tpython /Users/jirenz/Dropbox/Projects/AdversarialRL/Surreal/surreal/main/dm_control/run_eval.py surreal.main.dm_control.configs --mode eval_deterministic --id 1 --render\n"
     ]
    }
   ],
   "source": [
    "cluster.add_evals(['visual'], ['--mode eval_deterministic --id 1 --render'])"
   ]
  },
  {
   "cell_type": "code",
   "execution_count": null,
   "metadata": {
    "collapsed": true
   },
   "outputs": [],
   "source": []
  },
  {
   "cell_type": "code",
   "execution_count": null,
   "metadata": {
    "collapsed": false
   },
   "outputs": [],
   "source": [
    "add_agents(8,16)"
   ]
  },
  {
   "cell_type": "code",
   "execution_count": null,
   "metadata": {
    "collapsed": false
   },
   "outputs": [],
   "source": [
    "cluster.add_evals(['visuals'], ['--mode eval_stochastic --id 2 --render'])"
   ]
  },
  {
   "cell_type": "code",
   "execution_count": null,
   "metadata": {
    "collapsed": true
   },
   "outputs": [],
   "source": []
  }
 ],
 "metadata": {
  "kernelspec": {
   "display_name": "surreal",
   "language": "python",
   "name": "surreal"
  },
  "language_info": {
   "codemirror_mode": {
    "name": "ipython",
    "version": 3
   },
   "file_extension": ".py",
   "mimetype": "text/x-python",
   "name": "python",
   "nbconvert_exporter": "python",
   "pygments_lexer": "ipython3",
   "version": "3.5.2"
  },
  "toc": {
   "nav_menu": {},
   "number_sections": true,
   "sideBar": true,
   "skip_h1_title": false,
   "toc_cell": false,
   "toc_position": {},
   "toc_section_display": "block",
   "toc_window_display": false
  },
  "varInspector": {
   "cols": {
    "lenName": 16,
    "lenType": 16,
    "lenVar": 40
   },
   "kernels_config": {
    "python": {
     "delete_cmd_postfix": "",
     "delete_cmd_prefix": "del ",
     "library": "var_list.py",
     "varRefreshCmd": "print(var_dic_list())"
    },
    "r": {
     "delete_cmd_postfix": ") ",
     "delete_cmd_prefix": "rm(",
     "library": "var_list.r",
     "varRefreshCmd": "cat(var_dic_list()) "
    }
   },
   "types_to_exclude": [
    "module",
    "function",
    "builtin_function_or_method",
    "instance",
    "_Feature"
   ],
   "window_display": false
  }
 },
 "nbformat": 4,
 "nbformat_minor": 1
}
