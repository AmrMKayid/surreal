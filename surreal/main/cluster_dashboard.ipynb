{
 "cells": [
  {
   "cell_type": "code",
   "execution_count": 3,
   "metadata": {
    "init_cell": true
   },
   "outputs": [],
   "source": [
    "import importlib\n",
    "from surreal.session.jupyter.tmux_cluster import *"
   ]
  },
  {
   "cell_type": "code",
   "execution_count": 27,
   "metadata": {
    "code_folding": [],
    "init_cell": true
   },
   "outputs": [],
   "source": [
    "EXPERIMENT = 'dqn_cartpole'\n",
    "EXPERIMENT = 'ddpg'\n",
    "\n",
    "_pkg = 'surreal.main.' + EXPERIMENT + '.'\n",
    "config_pkg = importlib.import_module(_pkg + 'configs')\n",
    "session_config = config_pkg.session_config\n",
    "cluster = TmuxCluster(\n",
    "    cluster_name=EXPERIMENT,\n",
    "    session_config=session_config,\n",
    "    agent_script=_pkg + 'run_agent',\n",
    "    learner_script=_pkg + 'run_learner',\n",
    "    replay_script=_pkg + 'run_replay',\n",
    "    eval_script=_pkg + 'run_eval',\n",
    "    dry_run=0,\n",
    ")\n",
    "# magic method to enable shorthand commands\n",
    "set_cluster_var(globals(), 'cluster')"
   ]
  },
  {
   "cell_type": "code",
   "execution_count": 26,
   "metadata": {},
   "outputs": [
    {
     "name": "stdout",
     "output_type": "stream",
     "text": [
      "session agent-dqn_cartpole killed\n",
      "session learner-dqn_cartpole killed\n",
      "session infras-dqn_cartpole killed\n",
      "Experiment folder \"~/Temp/cartpole\" removed.\n"
     ]
    }
   ],
   "source": [
    "killall()"
   ]
  },
  {
   "cell_type": "code",
   "execution_count": 28,
   "metadata": {},
   "outputs": [
    {
     "name": "stdout",
     "output_type": "stream",
     "text": [
      "Experiment folder \"~/Temp/halfcheetah\" removed.\n",
      "infras-ddpg:loggerplex\t>>\tpython -u -m surreal.session.run_loggerplex_server '{\"folder\": \"~/Temp/halfcheetah\", \"tensorplex\": {\"update_schedule\": {\"training_env\": 20, \"eval_env\": 20, \"eval_env_sleep\": 30, \"agent\": 50, \"learner\": 20}, \"host\": \"localhost\", \"port\": 7005, \"tensorboard_port\": 6006, \"agent_bin_size\": 8, \"max_processes\": 4}, \"sender\": {\"flush_iteration\": 100, \"flush_time\": 0}, \"replay\": {\"host\": \"localhost\", \"port\": 7001, \"sampler_host\": \"localhost\", \"sampler_port\": 7002, \"max_puller_queue\": 10000, \"max_prefetch_batch_queue\": 10, \"evict_interval\": 0.0, \"tensorboard_display\": true}, \"ps\": {\"host\": \"localhost\", \"port\": 7003, \"publish_host\": \"localhost\", \"publish_port\": 7004}, \"loggerplex\": {\"host\": \"localhost\", \"port\": 7006, \"overwrite\": false, \"level\": \"info\", \"show_level\": true, \"time_format\": \"hms\"}}'\n",
      "infras-ddpg:tensorplex\t>>\tpython -u -m surreal.session.run_tensorplex_server '{\"folder\": \"~/Temp/halfcheetah\", \"tensorplex\": {\"update_schedule\": {\"training_env\": 20, \"eval_env\": 20, \"eval_env_sleep\": 30, \"agent\": 50, \"learner\": 20}, \"host\": \"localhost\", \"port\": 7005, \"tensorboard_port\": 6006, \"agent_bin_size\": 8, \"max_processes\": 4}, \"sender\": {\"flush_iteration\": 100, \"flush_time\": 0}, \"replay\": {\"host\": \"localhost\", \"port\": 7001, \"sampler_host\": \"localhost\", \"sampler_port\": 7002, \"max_puller_queue\": 10000, \"max_prefetch_batch_queue\": 10, \"evict_interval\": 0.0, \"tensorboard_display\": true}, \"ps\": {\"host\": \"localhost\", \"port\": 7003, \"publish_host\": \"localhost\", \"publish_port\": 7004}, \"loggerplex\": {\"host\": \"localhost\", \"port\": 7006, \"overwrite\": false, \"level\": \"info\", \"show_level\": true, \"time_format\": \"hms\"}}'\n",
      "infras-ddpg:tensorboard\t>>\ttensorboard --logdir ~/Temp/halfcheetah --port 6006\n",
      "infras-ddpg:ps\t>>\tpython -u -m surreal.session.run_parameter_server '{\"folder\": \"~/Temp/halfcheetah\", \"tensorplex\": {\"update_schedule\": {\"training_env\": 20, \"eval_env\": 20, \"eval_env_sleep\": 30, \"agent\": 50, \"learner\": 20}, \"host\": \"localhost\", \"port\": 7005, \"tensorboard_port\": 6006, \"agent_bin_size\": 8, \"max_processes\": 4}, \"sender\": {\"flush_iteration\": 100, \"flush_time\": 0}, \"replay\": {\"host\": \"localhost\", \"port\": 7001, \"sampler_host\": \"localhost\", \"sampler_port\": 7002, \"max_puller_queue\": 10000, \"max_prefetch_batch_queue\": 10, \"evict_interval\": 0.0, \"tensorboard_display\": true}, \"ps\": {\"host\": \"localhost\", \"port\": 7003, \"publish_host\": \"localhost\", \"publish_port\": 7004}, \"loggerplex\": {\"host\": \"localhost\", \"port\": 7006, \"overwrite\": false, \"level\": \"info\", \"show_level\": true, \"time_format\": \"hms\"}}'\n",
      "learner-ddpg:replay\t>>\tpython -u -m surreal.main.ddpg.run_replay\n",
      "learner-ddpg:learner\t>>\tpython -u -m surreal.main.ddpg.run_learner\n",
      "learner-ddpg:eval_d\t>>\tpython -u -m surreal.main.ddpg.run_eval --mode eval_deterministic\n",
      "agent-ddpg:A0\t>>\tpython -u -m surreal.main.ddpg.run_agent 0\n",
      "agent-ddpg:A1\t>>\tpython -u -m surreal.main.ddpg.run_agent 1\n",
      "agent-ddpg:A2\t>>\tpython -u -m surreal.main.ddpg.run_agent 2\n",
      "agent-ddpg:A3\t>>\tpython -u -m surreal.main.ddpg.run_agent 3\n",
      "agent-ddpg:A4\t>>\tpython -u -m surreal.main.ddpg.run_agent 4\n",
      "agent-ddpg:A5\t>>\tpython -u -m surreal.main.ddpg.run_agent 5\n",
      "agent-ddpg:A6\t>>\tpython -u -m surreal.main.ddpg.run_agent 6\n",
      "agent-ddpg:A7\t>>\tpython -u -m surreal.main.ddpg.run_agent 7\n",
      "No error found in cluster.\n"
     ]
    }
   ],
   "source": [
    "killall()\n",
    "sleep(1)\n",
    "launch(0, 8, eval=0)\n",
    "sleep(2)\n",
    "error()"
   ]
  },
  {
   "cell_type": "code",
   "execution_count": 29,
   "metadata": {},
   "outputs": [
    {
     "name": "stdout",
     "output_type": "stream",
     "text": [
      "==================== agent-ddpg:A0 ====================\n",
      ".../Surreal/surreal/main [exp0@gcloud]\n",
      "$  python -u -m surreal.main.ddpg.run_agent 0\n",
      "[2017-12-01 22:57:16,011] Making new env: HalfCheetah-v1\n",
      "==================== agent-ddpg:A1 ====================\n",
      " python -u -m surreal.main.ddpg.run_agent 1\n",
      ".../Surreal/surreal/main [exp0@gcloud]\n",
      "$  python -u -m surreal.main.ddpg.run_agent 1\n",
      "[2017-12-01 22:57:16,283] Making new env: HalfCheetah-v1\n",
      "==================== agent-ddpg:A2 ====================\n",
      " python -u -m surreal.main.ddpg.run_agent 2\n",
      ".../Surreal/surreal/main [exp0@gcloud]\n",
      "$  python -u -m surreal.main.ddpg.run_agent 2\n",
      "[2017-12-01 22:57:16,633] Making new env: HalfCheetah-v1\n",
      "==================== agent-ddpg:A3 ====================\n",
      " python -u -m surreal.main.ddpg.run_agent 3\n",
      ".../Surreal/surreal/main [exp0@gcloud]\n",
      "$  python -u -m surreal.main.ddpg.run_agent 3\n",
      "[2017-12-01 22:57:16,851] Making new env: HalfCheetah-v1\n",
      "==================== agent-ddpg:A4 ====================\n",
      " python -u -m surreal.main.ddpg.run_agent 4\n",
      ".../Surreal/surreal/main [exp0@gcloud]\n",
      "$  python -u -m surreal.main.ddpg.run_agent 4\n",
      "[2017-12-01 22:57:17,178] Making new env: HalfCheetah-v1\n",
      "==================== agent-ddpg:A5 ====================\n",
      " python -u -m surreal.main.ddpg.run_agent 5\n",
      ".../Surreal/surreal/main [exp0@gcloud]\n",
      "$  python -u -m surreal.main.ddpg.run_agent 5\n",
      "[2017-12-01 22:57:17,468] Making new env: HalfCheetah-v1\n",
      "==================== agent-ddpg:A6 ====================\n",
      " python -u -m surreal.main.ddpg.run_agent 6\n",
      ".../Surreal/surreal/main [exp0@gcloud]\n",
      "$  python -u -m surreal.main.ddpg.run_agent 6\n",
      "[2017-12-01 22:57:17,706] Making new env: HalfCheetah-v1\n",
      "==================== agent-ddpg:A7 ====================\n",
      " python -u -m surreal.main.ddpg.run_agent 7\n",
      ".../Surreal/surreal/main [exp0@gcloud]\n",
      "$  python -u -m surreal.main.ddpg.run_agent 7\n",
      "[2017-12-01 22:57:17,974] Making new env: HalfCheetah-v1\n"
     ]
    }
   ],
   "source": [
    "stdout('agent')"
   ]
  },
  {
   "cell_type": "code",
   "execution_count": 9,
   "metadata": {},
   "outputs": [
    {
     "name": "stdout",
     "output_type": "stream",
     "text": [
      "learner-cartpole:extraeval3\t>>\tpython -u -m surreal.main.dqn_cartpole.run_eval eval_stochastic --id 66\n",
      "learner-cartpole:extraeval4\t>>\tpython -u -m surreal.main.dqn_cartpole.run_eval bad_arg\n"
     ]
    }
   ],
   "source": [
    "cluster.add_evals(['extraeval3', 'extraeval4'], ['eval_stochastic --id 66', 'bad_arg'])"
   ]
  },
  {
   "cell_type": "code",
   "execution_count": 23,
   "metadata": {},
   "outputs": [
    {
     "name": "stdout",
     "output_type": "stream",
     "text": [
      "agent-dqn_cartpole:A8\t>>\tpython -u -m surreal.main.dqn_cartpole.run_agent 8\n",
      "agent-dqn_cartpole:A9\t>>\tpython -u -m surreal.main.dqn_cartpole.run_agent 9\n",
      "agent-dqn_cartpole:A10\t>>\tpython -u -m surreal.main.dqn_cartpole.run_agent 10\n",
      "agent-dqn_cartpole:A11\t>>\tpython -u -m surreal.main.dqn_cartpole.run_agent 11\n",
      "agent-dqn_cartpole:A12\t>>\tpython -u -m surreal.main.dqn_cartpole.run_agent 12\n",
      "agent-dqn_cartpole:A13\t>>\tpython -u -m surreal.main.dqn_cartpole.run_agent 13\n",
      "agent-dqn_cartpole:A14\t>>\tpython -u -m surreal.main.dqn_cartpole.run_agent 14\n",
      "agent-dqn_cartpole:A15\t>>\tpython -u -m surreal.main.dqn_cartpole.run_agent 15\n"
     ]
    }
   ],
   "source": [
    "add_agents(8,16)"
   ]
  },
  {
   "cell_type": "code",
   "execution_count": null,
   "metadata": {},
   "outputs": [],
   "source": []
  }
 ],
 "metadata": {
  "kernelspec": {
   "display_name": "Python 3",
   "language": "python",
   "name": "python3"
  },
  "language_info": {
   "codemirror_mode": {
    "name": "ipython",
    "version": 3
   },
   "file_extension": ".py",
   "mimetype": "text/x-python",
   "name": "python",
   "nbconvert_exporter": "python",
   "pygments_lexer": "ipython3",
   "version": "3.6.0"
  },
  "toc": {
   "nav_menu": {},
   "number_sections": true,
   "sideBar": true,
   "skip_h1_title": false,
   "toc_cell": false,
   "toc_position": {},
   "toc_section_display": "block",
   "toc_window_display": false
  },
  "varInspector": {
   "cols": {
    "lenName": 16,
    "lenType": 16,
    "lenVar": 40
   },
   "kernels_config": {
    "python": {
     "delete_cmd_postfix": "",
     "delete_cmd_prefix": "del ",
     "library": "var_list.py",
     "varRefreshCmd": "print(var_dic_list())"
    },
    "r": {
     "delete_cmd_postfix": ") ",
     "delete_cmd_prefix": "rm(",
     "library": "var_list.r",
     "varRefreshCmd": "cat(var_dic_list()) "
    }
   },
   "types_to_exclude": [
    "module",
    "function",
    "builtin_function_or_method",
    "instance",
    "_Feature"
   ],
   "window_display": false
  }
 },
 "nbformat": 4,
 "nbformat_minor": 2
}
