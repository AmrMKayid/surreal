{
 "cells": [
  {
   "cell_type": "code",
   "execution_count": 1,
   "metadata": {
    "collapsed": true,
    "init_cell": true
   },
   "outputs": [],
   "source": [
    "import importlib\n",
    "from surreal.session.jupyter.tmux_cluster import *"
   ]
  },
  {
   "cell_type": "code",
   "execution_count": null,
   "metadata": {
    "collapsed": true
   },
   "outputs": [],
   "source": []
  },
  {
   "cell_type": "code",
   "execution_count": 17,
   "metadata": {
    "code_folding": [],
    "collapsed": true,
    "init_cell": true
   },
   "outputs": [],
   "source": [
    "EXPERIMENT = 'dqn_cartpole'\n",
    "EXPERIMENT = 'ddpg'\n",
    "\n",
    "_pkg = 'surreal.main.' + EXPERIMENT + '.'\n",
    "config_pkg = importlib.import_module(_pkg + 'configs')\n",
    "session_config = config_pkg.session_config\n",
    "cluster = TmuxCluster(\n",
    "    cluster_name=EXPERIMENT,\n",
    "    session_config=session_config,\n",
    "    agent_script=_pkg + 'run_agent',\n",
    "    learner_script=_pkg + 'run_learner',\n",
    "    replay_script=_pkg + 'run_replay',\n",
    "    eval_script=_pkg + 'run_eval',\n",
    "#     preamble_cmd='source activate surreal',\n",
    "    dry_run=0,\n",
    ")\n",
    "# magic method to enable shorthand commands\n",
    "set_cluster_var(globals(), 'cluster')"
   ]
  },
  {
   "cell_type": "code",
   "execution_count": 22,
   "metadata": {
    "collapsed": false
   },
   "outputs": [
    {
     "name": "stdout",
     "output_type": "stream",
     "text": [
      "session agent-ddpg killed\n",
      "session learner-ddpg killed\n",
      "session infras-ddpg killed\n",
      "Experiment folder \"~/Temp/halfcheetah\" removed.\n"
     ]
    }
   ],
   "source": [
    "killall()"
   ]
  },
  {
   "cell_type": "code",
   "execution_count": 19,
   "metadata": {
    "collapsed": false
   },
   "outputs": [
    {
     "name": "stdout",
     "output_type": "stream",
     "text": [
      "Experiment folder \"~/Temp/halfcheetah\" removed.\n",
      "infras-ddpg:loggerplex\t>>\tpython -u -m surreal.session.run_loggerplex_server '{\"sender\": {\"flush_iteration\": 100, \"flush_time\": 0}, \"tensorplex\": {\"host\": \"localhost\", \"max_processes\": 4, \"update_schedule\": {\"training_env\": 20, \"agent\": 50, \"eval_env\": 5, \"learner\": 20, \"eval_env_sleep\": 5}, \"tensorboard_port\": 6006, \"agent_bin_size\": 8, \"port\": 7005}, \"ps\": {\"host\": \"localhost\", \"publish_host\": \"localhost\", \"publish_port\": 7004, \"port\": 7003}, \"replay\": {\"host\": \"localhost\", \"sampler_host\": \"localhost\", \"max_puller_queue\": 10000, \"sampler_port\": 7002, \"max_prefetch_batch_queue\": 10, \"tensorboard_display\": true, \"port\": 7001, \"evict_interval\": 0.0}, \"folder\": \"~/Temp/halfcheetah\", \"loggerplex\": {\"host\": \"localhost\", \"show_level\": true, \"time_format\": \"hms\", \"level\": \"info\", \"overwrite\": false, \"port\": 7006}}'\n",
      "infras-ddpg:tensorplex\t>>\tpython -u -m surreal.session.run_tensorplex_server '{\"sender\": {\"flush_iteration\": 100, \"flush_time\": 0}, \"tensorplex\": {\"host\": \"localhost\", \"max_processes\": 4, \"update_schedule\": {\"training_env\": 20, \"agent\": 50, \"eval_env\": 5, \"learner\": 20, \"eval_env_sleep\": 5}, \"tensorboard_port\": 6006, \"agent_bin_size\": 8, \"port\": 7005}, \"ps\": {\"host\": \"localhost\", \"publish_host\": \"localhost\", \"publish_port\": 7004, \"port\": 7003}, \"replay\": {\"host\": \"localhost\", \"sampler_host\": \"localhost\", \"max_puller_queue\": 10000, \"sampler_port\": 7002, \"max_prefetch_batch_queue\": 10, \"tensorboard_display\": true, \"port\": 7001, \"evict_interval\": 0.0}, \"folder\": \"~/Temp/halfcheetah\", \"loggerplex\": {\"host\": \"localhost\", \"show_level\": true, \"time_format\": \"hms\", \"level\": \"info\", \"overwrite\": false, \"port\": 7006}}'\n",
      "infras-ddpg:tensorboard\t>>\ttensorboard --logdir ~/Temp/halfcheetah --port 6006\n",
      "infras-ddpg:ps\t>>\tpython -u -m surreal.session.run_parameter_server '{\"sender\": {\"flush_iteration\": 100, \"flush_time\": 0}, \"tensorplex\": {\"host\": \"localhost\", \"max_processes\": 4, \"update_schedule\": {\"training_env\": 20, \"agent\": 50, \"eval_env\": 5, \"learner\": 20, \"eval_env_sleep\": 5}, \"tensorboard_port\": 6006, \"agent_bin_size\": 8, \"port\": 7005}, \"ps\": {\"host\": \"localhost\", \"publish_host\": \"localhost\", \"publish_port\": 7004, \"port\": 7003}, \"replay\": {\"host\": \"localhost\", \"sampler_host\": \"localhost\", \"max_puller_queue\": 10000, \"sampler_port\": 7002, \"max_prefetch_batch_queue\": 10, \"tensorboard_display\": true, \"port\": 7001, \"evict_interval\": 0.0}, \"folder\": \"~/Temp/halfcheetah\", \"loggerplex\": {\"host\": \"localhost\", \"show_level\": true, \"time_format\": \"hms\", \"level\": \"info\", \"overwrite\": false, \"port\": 7006}}'\n",
      "learner-ddpg:replay\t>>\tpython -u -m surreal.main.ddpg.run_replay\n",
      "learner-ddpg:learner\t>>\tpython -u -m surreal.main.ddpg.run_learner\n",
      "learner-ddpg:eval_d\t>>\tpython -u -m surreal.main.ddpg.run_eval --mode eval_deterministic\n",
      "agent-ddpg:A0\t>>\tpython -u -m surreal.main.ddpg.run_agent 0\n",
      "agent-ddpg:A1\t>>\tpython -u -m surreal.main.ddpg.run_agent 1\n",
      "No error found in cluster.\n"
     ]
    }
   ],
   "source": [
    "killall()\n",
    "sleep(1)\n",
    "launch(0, 2, eval=0)\n",
    "sleep(2)\n",
    "error()"
   ]
  },
  {
   "cell_type": "code",
   "execution_count": 14,
   "metadata": {
    "collapsed": false
   },
   "outputs": [
    {
     "name": "stdout",
     "output_type": "stream",
     "text": [
      "==================== agent-ddpg:A0 ====================\n",
      " python -u -m surreal.main.ddpg.run_agent 0\n",
      "~/.../Portfolio 04:35 PM *>> Veni Vidi Vici <<*\n",
      "$  python -u -m surreal.main.ddpg.run_agent 0\n",
      "[2017-12-01 16:35:21,293] Making new env: HalfCheetah-v1\n",
      "==================== agent-ddpg:A1 ====================\n",
      " python -u -m surreal.main.ddpg.run_agent 1\n",
      "~/.../Portfolio 04:35 PM *>> Veni Vidi Vici <<*\n",
      "$  python -u -m surreal.main.ddpg.run_agent 1\n",
      "[2017-12-01 16:35:22,542] Making new env: HalfCheetah-v1\n",
      "==================== agent-ddpg:A2 ====================\n",
      " python -u -m surreal.main.ddpg.run_agent 2\n",
      "~/.../Portfolio 04:35 PM *>> Veni Vidi Vici <<*\n",
      "$  python -u -m surreal.main.ddpg.run_agent 2\n",
      "[2017-12-01 16:35:23,267] Making new env: HalfCheetah-v1\n",
      "==================== agent-ddpg:A3 ====================\n",
      " python -u -m surreal.main.ddpg.run_agent 3\n",
      "~/.../Portfolio 04:35 PM *>> Veni Vidi Vici <<*\n",
      "$  python -u -m surreal.main.ddpg.run_agent 3\n",
      "[2017-12-01 16:35:24,707] Making new env: HalfCheetah-v1\n",
      "==================== agent-ddpg:A4 ====================\n",
      " python -u -m surreal.main.ddpg.run_agent 4\n",
      "~/.../Portfolio 04:35 PM *>> Veni Vidi Vici <<*\n",
      "$  python -u -m surreal.main.ddpg.run_agent 4\n",
      "[2017-12-01 16:35:24,305] Making new env: HalfCheetah-v1\n",
      "==================== agent-ddpg:A5 ====================\n",
      " python -u -m surreal.main.ddpg.run_agent 5\n",
      "~/.../Portfolio 04:35 PM *>> Veni Vidi Vici <<*\n",
      "$  python -u -m surreal.main.ddpg.run_agent 5\n",
      "[2017-12-01 16:35:25,119] Making new env: HalfCheetah-v1\n",
      "==================== agent-ddpg:A6 ====================\n",
      " python -u -m surreal.main.ddpg.run_agent 6\n",
      "~/.../Portfolio 04:35 PM *>> Veni Vidi Vici <<*\n",
      "$  python -u -m surreal.main.ddpg.run_agent 6\n",
      "[2017-12-01 16:35:26,042] Making new env: HalfCheetah-v1\n",
      "==================== agent-ddpg:A7 ====================\n",
      " python -u -m surreal.main.ddpg.run_agent 7\n",
      "~/.../Portfolio 04:35 PM *>> Veni Vidi Vici <<*\n",
      "$  python -u -m surreal.main.ddpg.run_agent 7\n",
      "[2017-12-01 16:35:26,503] Making new env: HalfCheetah-v1\n"
     ]
    }
   ],
   "source": [
    "stdout('agent')"
   ]
  },
  {
   "cell_type": "code",
   "execution_count": 20,
   "metadata": {
    "collapsed": false
   },
   "outputs": [
    {
     "name": "stdout",
     "output_type": "stream",
     "text": [
      "learner-ddpg:visual\t>>\tpython -u -m surreal.main.ddpg.run_eval --mode eval_deterministic --id 1 --render\n"
     ]
    }
   ],
   "source": [
    "cluster.add_evals(['visual'], ['--mode eval_deterministic --id 1 --render'])"
   ]
  },
  {
   "cell_type": "code",
   "execution_count": 23,
   "metadata": {
    "collapsed": false
   },
   "outputs": [
    {
     "name": "stdout",
     "output_type": "stream",
     "text": [
      "agent-dqn_cartpole:A8\t>>\tpython -u -m surreal.main.dqn_cartpole.run_agent 8\n",
      "agent-dqn_cartpole:A9\t>>\tpython -u -m surreal.main.dqn_cartpole.run_agent 9\n",
      "agent-dqn_cartpole:A10\t>>\tpython -u -m surreal.main.dqn_cartpole.run_agent 10\n",
      "agent-dqn_cartpole:A11\t>>\tpython -u -m surreal.main.dqn_cartpole.run_agent 11\n",
      "agent-dqn_cartpole:A12\t>>\tpython -u -m surreal.main.dqn_cartpole.run_agent 12\n",
      "agent-dqn_cartpole:A13\t>>\tpython -u -m surreal.main.dqn_cartpole.run_agent 13\n",
      "agent-dqn_cartpole:A14\t>>\tpython -u -m surreal.main.dqn_cartpole.run_agent 14\n",
      "agent-dqn_cartpole:A15\t>>\tpython -u -m surreal.main.dqn_cartpole.run_agent 15\n"
     ]
    }
   ],
   "source": [
    "add_agents(8,16)"
   ]
  },
  {
   "cell_type": "code",
   "execution_count": 21,
   "metadata": {
    "collapsed": false
   },
   "outputs": [
    {
     "name": "stdout",
     "output_type": "stream",
     "text": [
      "learner-ddpg:visuals\t>>\tpython -u -m surreal.main.ddpg.run_eval --mode eval_stochastic --id 2 --render\n"
     ]
    }
   ],
   "source": [
    "cluster.add_evals(['visuals'], ['--mode eval_stochastic --id 2 --render'])"
   ]
  },
  {
   "cell_type": "code",
   "execution_count": null,
   "metadata": {
    "collapsed": true
   },
   "outputs": [],
   "source": []
  }
 ],
 "metadata": {
  "kernelspec": {
   "display_name": "surrealmjgym",
   "language": "python",
   "name": "surrealmjgym"
  },
  "language_info": {
   "codemirror_mode": {
    "name": "ipython",
    "version": 3
   },
   "file_extension": ".py",
   "mimetype": "text/x-python",
   "name": "python",
   "nbconvert_exporter": "python",
   "pygments_lexer": "ipython3",
   "version": "3.5.2"
  },
  "toc": {
   "nav_menu": {},
   "number_sections": true,
   "sideBar": true,
   "skip_h1_title": false,
   "toc_cell": false,
   "toc_position": {},
   "toc_section_display": "block",
   "toc_window_display": false
  },
  "varInspector": {
   "cols": {
    "lenName": 16,
    "lenType": 16,
    "lenVar": 40
   },
   "kernels_config": {
    "python": {
     "delete_cmd_postfix": "",
     "delete_cmd_prefix": "del ",
     "library": "var_list.py",
     "varRefreshCmd": "print(var_dic_list())"
    },
    "r": {
     "delete_cmd_postfix": ") ",
     "delete_cmd_prefix": "rm(",
     "library": "var_list.r",
     "varRefreshCmd": "cat(var_dic_list()) "
    }
   },
   "types_to_exclude": [
    "module",
    "function",
    "builtin_function_or_method",
    "instance",
    "_Feature"
   ],
   "window_display": false
  }
 },
 "nbformat": 4,
 "nbformat_minor": 1
}
