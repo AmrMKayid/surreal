{
 "cells": [
  {
   "cell_type": "code",
   "execution_count": 3,
   "metadata": {
    "collapsed": true,
    "init_cell": true
   },
   "outputs": [],
   "source": [
    "from surreal.session.jupyter.tmux_cluster import *\n",
    "from surreal.session.jupyter.redis import *"
   ]
  },
  {
   "cell_type": "code",
   "execution_count": 4,
   "metadata": {
    "code_folding": [],
    "collapsed": true,
    "init_cell": true
   },
   "outputs": [],
   "source": [
    "from surreal.main.dqn_cartpole.configs import *\n",
    "cluster = TmuxCluster(\n",
    "    cluster_name='halfcheetah',\n",
    "    session_config=session_config,\n",
    "    agent_script='surreal.main.ddpg.run_agent',\n",
    "    learner_script='surreal.main.ddpg.run_learner',\n",
    "    eval_script='surreal.main.ddpg.run_eval',\n",
    "    dry_run=0,\n",
    ")\n",
    "# magic method to enable shorthand commands\n",
    "set_cluster_var(globals(), 'cluster')"
   ]
  },
  {
   "cell_type": "code",
   "execution_count": 5,
   "metadata": {
    "collapsed": true,
    "init_cell": true
   },
   "outputs": [],
   "source": [
    "redis_client = StrictRedis(port=session_config.tensorplex.port)\n",
    "set_redis_var(globals(), 'redis_client')"
   ]
  },
  {
   "cell_type": "code",
   "execution_count": 12,
   "metadata": {
    "collapsed": false
   },
   "outputs": [
    {
     "name": "stdout",
     "output_type": "stream",
     "text": [
      "Experiment folder \"~/Temp/cartpole\" removed.\n",
      "infras-halfcheetah:redis-replay\t>>\tredis-server --port 6379 --protected-mode no\n",
      "infras-halfcheetah:redis-ps\t>>\tredis-server --port 6380 --protected-mode no\n",
      "infras-halfcheetah:redis-plex\t>>\tredis-server --port 6381 --protected-mode no\n",
      "infras-halfcheetah:loggerplex\t>>\tsource activate surreal; python -u -m surreal.session.run_loggerplex_server '{\"folder\": \"~/Temp/cartpole\", \"ps\": {\"name\": \"ps\", \"port\": 6380, \"host\": \"localhost\"}, \"tensorplex\": {\"eval_update_interval\": 20, \"log_debug\": false, \"agent_bin_size\": 8, \"agent_update_interval\": 50, \"host\": \"localhost\", \"port\": 6381, \"update_schedule\": {\"training_env\": 20, \"eval_env\": 20, \"agent\": 20, \"learner\": 20, \"eval_env_sleep\": 30}, \"tensorboard_port\": 6006, \"log_overwrite\": false}, \"sender\": {\"local_obs_cache_size\": 100000, \"pointers_only\": true, \"remote_save_exp\": false}, \"replay\": {\"remote_exp_queue_size\": 10000, \"local_batch_queue_size\": 10, \"host\": \"localhost\", \"port\": 6379, \"name\": \"replay\", \"local_exp_queue_size\": 10000, \"tensorboard_display\": true}}'\n",
      "infras-halfcheetah:tensorplex\t>>\tsource activate surreal; python -u -m surreal.session.run_tensorplex_server '{\"folder\": \"~/Temp/cartpole\", \"ps\": {\"name\": \"ps\", \"port\": 6380, \"host\": \"localhost\"}, \"tensorplex\": {\"eval_update_interval\": 20, \"log_debug\": false, \"agent_bin_size\": 8, \"agent_update_interval\": 50, \"host\": \"localhost\", \"port\": 6381, \"update_schedule\": {\"training_env\": 20, \"eval_env\": 20, \"agent\": 20, \"learner\": 20, \"eval_env_sleep\": 30}, \"tensorboard_port\": 6006, \"log_overwrite\": false}, \"sender\": {\"local_obs_cache_size\": 100000, \"pointers_only\": true, \"remote_save_exp\": false}, \"replay\": {\"remote_exp_queue_size\": 10000, \"local_batch_queue_size\": 10, \"host\": \"localhost\", \"port\": 6379, \"name\": \"replay\", \"local_exp_queue_size\": 10000, \"tensorboard_display\": true}}'\n",
      "infras-halfcheetah:tensorboard\t>>\ttensorboard --logdir ~/Temp/cartpole --port 6006\n",
      "learner-halfcheetah:learner\t>>\tsource activate surreal; python -u -m surreal.main.ddpg.run_learner\n",
      "learner-halfcheetah:eval_d\t>>\tsource activate surreal; python -u -m surreal.main.ddpg.run_eval --mode eval_deterministic\n",
      "agent-halfcheetah:A0\t>>\tsource activate surreal; python -u -m surreal.main.ddpg.run_agent 0\n",
      "No error found in cluster.\n"
     ]
    }
   ],
   "source": [
    "killall()\n",
    "sleep(1)\n",
    "launch(0, 1, eval=0)\n",
    "sleep(2)\n",
    "error()"
   ]
  },
  {
   "cell_type": "code",
   "execution_count": 7,
   "metadata": {
    "collapsed": false
   },
   "outputs": [
    {
     "data": {
      "text/plain": [
       "OrderedDict([('agent-halfcheetah', ['A0', 'A1']),\n",
       "             ('learner-halfcheetah',\n",
       "              ['learner', 'eval_d', 'eval_s-0', 'eval_s-1']),\n",
       "             ('infras-halfcheetah',\n",
       "              ['redis-replay',\n",
       "               'redis-ps',\n",
       "               'redis-plex',\n",
       "               'loggerplex',\n",
       "               'tensorplex',\n",
       "               'tensorboard'])])"
      ]
     },
     "execution_count": 7,
     "metadata": {},
     "output_type": "execute_result"
    }
   ],
   "source": [
    "ls()"
   ]
  },
  {
   "cell_type": "code",
   "execution_count": null,
   "metadata": {
    "collapsed": true
   },
   "outputs": [],
   "source": [
    "cluster.add_evals(['extraeval3', 'extraeval4'], ['eval_stochastic --id 66', 'bad_arg'])"
   ]
  },
  {
   "cell_type": "code",
   "execution_count": null,
   "metadata": {
    "collapsed": true
   },
   "outputs": [],
   "source": [
    "error('learner')"
   ]
  },
  {
   "cell_type": "code",
   "execution_count": 11,
   "metadata": {
    "collapsed": false
   },
   "outputs": [
    {
     "name": "stdout",
     "output_type": "stream",
     "text": [
      "session agent-halfcheetah killed\n",
      "session learner-halfcheetah killed\n",
      "session infras-halfcheetah killed\n",
      "Experiment folder \"~/Temp/cartpole\" removed.\n"
     ]
    }
   ],
   "source": [
    "killall()"
   ]
  },
  {
   "cell_type": "code",
   "execution_count": null,
   "metadata": {
    "collapsed": true
   },
   "outputs": [],
   "source": []
  }
 ],
 "metadata": {
  "kernelspec": {
   "display_name": "Python3 (surreal)",
   "language": "python",
   "name": "testenv"
  },
  "language_info": {
   "codemirror_mode": {
    "name": "ipython",
    "version": 3
   },
   "file_extension": ".py",
   "mimetype": "text/x-python",
   "name": "python",
   "nbconvert_exporter": "python",
   "pygments_lexer": "ipython3",
   "version": "3.5.4"
  },
  "toc": {
   "nav_menu": {},
   "number_sections": true,
   "sideBar": true,
   "skip_h1_title": false,
   "toc_cell": false,
   "toc_position": {},
   "toc_section_display": "block",
   "toc_window_display": false
  },
  "varInspector": {
   "cols": {
    "lenName": 16,
    "lenType": 16,
    "lenVar": 40
   },
   "kernels_config": {
    "python": {
     "delete_cmd_postfix": "",
     "delete_cmd_prefix": "del ",
     "library": "var_list.py",
     "varRefreshCmd": "print(var_dic_list())"
    },
    "r": {
     "delete_cmd_postfix": ") ",
     "delete_cmd_prefix": "rm(",
     "library": "var_list.r",
     "varRefreshCmd": "cat(var_dic_list()) "
    }
   },
   "types_to_exclude": [
    "module",
    "function",
    "builtin_function_or_method",
    "instance",
    "_Feature"
   ],
   "window_display": false
  }
 },
 "nbformat": 4,
 "nbformat_minor": 1
}
