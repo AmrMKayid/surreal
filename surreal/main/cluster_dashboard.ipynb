{
 "cells": [
  {
   "cell_type": "code",
   "execution_count": 1,
   "metadata": {
    "collapsed": false,
    "init_cell": true
   },
   "outputs": [],
   "source": [
    "import importlib\n",
    "from surreal.session.jupyter.tmux_cluster import *"
   ]
  },
  {
   "cell_type": "code",
   "execution_count": 2,
   "metadata": {
    "code_folding": [],
    "collapsed": false,
    "init_cell": true
   },
   "outputs": [],
   "source": [
    "EXPERIMENT = 'dm_control'\n",
    "\n",
    "_pkg = 'surreal.main.' + EXPERIMENT + '.'\n",
    "config_pkg_name = _pkg + 'configs'\n",
    "config_pkg = importlib.import_module(config_pkg_name)\n",
    "path = '/Users/jirenz/Dropbox/Projects/AdversarialRL/Surreal/surreal/main/dm_control/'\n",
    "session_config = config_pkg.session_config\n",
    "cluster = TmuxCluster(\n",
    "    cluster_name=EXPERIMENT,\n",
    "    session_config=session_config,\n",
    "    agent_script=' '.join(['python', path + 'run_agent.py', config_pkg_name]),\n",
    "    learner_script=' '.join(['python', path + 'run_learner.py', config_pkg_name]),\n",
    "    replay_script=' '.join(['python', path + 'run_replay.py', config_pkg_name]),\n",
    "    eval_script=' '.join(['python', path + 'run_eval.py', config_pkg_name]),\n",
    "    preamble_cmd='source activate surreal',\n",
    "    dry_run=0,\n",
    ")\n",
    "# magic method to enable shorthand commands\n",
    "set_cluster_var(globals(), 'cluster')"
   ]
  },
  {
   "cell_type": "code",
   "execution_count": 18,
   "metadata": {
    "collapsed": false
   },
   "outputs": [
    {
     "name": "stdout",
     "output_type": "stream",
     "text": [
      "session agent-dm_control killed\n",
      "session learner-dm_control killed\n",
      "session infras-dm_control killed\n",
      "Experiment folder \"~/Temp/dm_control\" removed.\n"
     ]
    }
   ],
   "source": [
    "killall()"
   ]
  },
  {
   "cell_type": "code",
   "execution_count": 14,
   "metadata": {
    "collapsed": false
   },
   "outputs": [
    {
     "name": "stdout",
     "output_type": "stream",
     "text": [
      "Experiment folder \"~/Temp/dm_control\" removed.\n",
      "infras-dm_control:loggerplex\t>>\tpython -u -m surreal.session.run_loggerplex_server '{\"replay\": {\"evict_interval\": 0.0, \"port\": 7001, \"max_prefetch_batch_queue\": 10, \"tensorboard_display\": true, \"max_puller_queue\": 10000, \"host\": \"localhost\", \"sampler_host\": \"localhost\", \"sampler_port\": 7002}, \"folder\": \"~/Temp/dm_control\", \"agent\": {\"fetch_parameter_mode\": \"episode\"}, \"tensorplex\": {\"agent_bin_size\": 8, \"port\": 7005, \"tensorboard_port\": 6006, \"update_schedule\": {\"agent\": 20, \"learner\": 20, \"training_env\": 20, \"eval_env_sleep\": 30, \"eval_env\": 20}, \"host\": \"localhost\", \"max_processes\": 4}, \"loggerplex\": {\"port\": 7006, \"time_format\": \"hms\", \"overwrite\": false, \"show_level\": true, \"level\": \"info\", \"host\": \"localhost\"}, \"sender\": {\"flush_time\": 0, \"flush_iteration\": 100}, \"ps\": {\"publish_port\": 7004, \"port\": 7003, \"host\": \"localhost\", \"publish_host\": \"localhost\"}}'\n",
      "infras-dm_control:tensorplex\t>>\tpython -u -m surreal.session.run_tensorplex_server '{\"replay\": {\"evict_interval\": 0.0, \"port\": 7001, \"max_prefetch_batch_queue\": 10, \"tensorboard_display\": true, \"max_puller_queue\": 10000, \"host\": \"localhost\", \"sampler_host\": \"localhost\", \"sampler_port\": 7002}, \"folder\": \"~/Temp/dm_control\", \"agent\": {\"fetch_parameter_mode\": \"episode\"}, \"tensorplex\": {\"agent_bin_size\": 8, \"port\": 7005, \"tensorboard_port\": 6006, \"update_schedule\": {\"agent\": 20, \"learner\": 20, \"training_env\": 20, \"eval_env_sleep\": 30, \"eval_env\": 20}, \"host\": \"localhost\", \"max_processes\": 4}, \"loggerplex\": {\"port\": 7006, \"time_format\": \"hms\", \"overwrite\": false, \"show_level\": true, \"level\": \"info\", \"host\": \"localhost\"}, \"sender\": {\"flush_time\": 0, \"flush_iteration\": 100}, \"ps\": {\"publish_port\": 7004, \"port\": 7003, \"host\": \"localhost\", \"publish_host\": \"localhost\"}}'\n",
      "infras-dm_control:tensorboard\t>>\ttensorboard --logdir ~/Temp/dm_control --port 6006\n",
      "infras-dm_control:ps\t>>\tpython -u -m surreal.session.run_parameter_server '{\"replay\": {\"evict_interval\": 0.0, \"port\": 7001, \"max_prefetch_batch_queue\": 10, \"tensorboard_display\": true, \"max_puller_queue\": 10000, \"host\": \"localhost\", \"sampler_host\": \"localhost\", \"sampler_port\": 7002}, \"folder\": \"~/Temp/dm_control\", \"agent\": {\"fetch_parameter_mode\": \"episode\"}, \"tensorplex\": {\"agent_bin_size\": 8, \"port\": 7005, \"tensorboard_port\": 6006, \"update_schedule\": {\"agent\": 20, \"learner\": 20, \"training_env\": 20, \"eval_env_sleep\": 30, \"eval_env\": 20}, \"host\": \"localhost\", \"max_processes\": 4}, \"loggerplex\": {\"port\": 7006, \"time_format\": \"hms\", \"overwrite\": false, \"show_level\": true, \"level\": \"info\", \"host\": \"localhost\"}, \"sender\": {\"flush_time\": 0, \"flush_iteration\": 100}, \"ps\": {\"publish_port\": 7004, \"port\": 7003, \"host\": \"localhost\", \"publish_host\": \"localhost\"}}'\n",
      "learner-dm_control:replay\t>>\tpython /Users/jirenz/Dropbox/Projects/AdversarialRL/Surreal/surreal/main/dm_control/run_replay.py surreal.main.dm_control.configs\n",
      "learner-dm_control:learner\t>>\tpython /Users/jirenz/Dropbox/Projects/AdversarialRL/Surreal/surreal/main/dm_control/run_learner.py surreal.main.dm_control.configs\n",
      "learner-dm_control:eval_d\t>>\tpython /Users/jirenz/Dropbox/Projects/AdversarialRL/Surreal/surreal/main/dm_control/run_eval.py surreal.main.dm_control.configs --mode eval_deterministic\n",
      "agent-dm_control:A0\t>>\tpython /Users/jirenz/Dropbox/Projects/AdversarialRL/Surreal/surreal/main/dm_control/run_agent.py surreal.main.dm_control.configs 0\n",
      "agent-dm_control:A1\t>>\tpython /Users/jirenz/Dropbox/Projects/AdversarialRL/Surreal/surreal/main/dm_control/run_agent.py surreal.main.dm_control.configs 1\n",
      "No error found in cluster.\n"
     ]
    }
   ],
   "source": [
    "killall()\n",
    "sleep(1)\n",
    "launch(0, 2, eval=0)\n",
    "sleep(2)\n",
    "error()"
   ]
  },
  {
   "cell_type": "code",
   "execution_count": 15,
   "metadata": {
    "collapsed": false,
    "scrolled": false
   },
   "outputs": [
    {
     "name": "stdout",
     "output_type": "stream",
     "text": [
      "==================== agent-dm_control:A0 ====================\n",
      "DN0a22a051:main jirenz$  source activate surreal\n",
      " python /Users/jirenz/Dropbox/Projects/AdversarialRL/Surreal/surreal/main/dm_control/run_agent.py surreal.main.dm_control.configs 0\n",
      "(surreal) DN0a22a051:main jirenz$  python /Users/jirenz/Dropbox/Projects/AdversarialRL/Surreal/surreal/main/dm_control/run_agent.py surreal.main.dm_control.configs 0\n",
      "==================== agent-dm_control:A1 ====================\n",
      " source activate surreal\n",
      " python /Users/jirenz/Dropbox/Projects/AdversarialRL/Surreal/surreal/main/dm_control/run_agent.py surreal.main.dm_control.configs 1\n",
      "DN0a22a051:main jirenz$  source activate surreal\n",
      " python /Users/jirenz/Dropbox/Projects/AdversarialRL/Surreal/surreal/main/dm_control/run_agent.py surreal.main.dm_control.configs 1\n",
      "(surreal) DN0a22a051:main jirenz$  python /Users/jirenz/Dropbox/Projects/AdversarialRL/Surreal/surreal/main/dm_control/run_agent.py surreal.main.dm_control.configs 1\n"
     ]
    }
   ],
   "source": [
    "stdout('agent')"
   ]
  },
  {
   "cell_type": "code",
   "execution_count": 16,
   "metadata": {
    "collapsed": false,
    "scrolled": false
   },
   "outputs": [
    {
     "name": "stdout",
     "output_type": "stream",
     "text": [
      "==================== learner-dm_control:replay ====================\n",
      "DN0a22a051:main jirenz$  source activate surreal\n",
      " python /Users/jirenz/Dropbox/Projects/AdversarialRL/Surreal/surreal/main/dm_control/run_replay.py surreal.main.dm_control.configs\n",
      "(surreal) DN0a22a051:main jirenz$  python /Users/jirenz/Dropbox/Projects/AdversarialRL/Surreal/surreal/main/dm_control/run_replay.py surreal.main.dm_control.configs\n",
      "==================== learner-dm_control:learner ====================\n",
      "DN0a22a051:main jirenz$  source activate surreal\n",
      " python /Users/jirenz/Dropbox/Projects/AdversarialRL/Surreal/surreal/main/dm_control/run_learner.py surreal.main.dm_control.configs\n",
      "(surreal) DN0a22a051:main jirenz$  python /Users/jirenz/Dropbox/Projects/AdversarialRL/Surreal/surreal/main/dm_control/run_learner.py surreal.main.dm_control.configs\n",
      "==================== learner-dm_control:eval_d ====================\n",
      "DN0a22a051:main jirenz$  source activate surreal\n",
      " python /Users/jirenz/Dropbox/Projects/AdversarialRL/Surreal/surreal/main/dm_control/run_eval.py surreal.main.dm_control.configs --mode eval_deterministic\n",
      "(surreal) DN0a22a051:main jirenz$  python /Users/jirenz/Dropbox/Projects/AdversarialRL/Surreal/surreal/main/dm_control/run_eval.py surreal.main.dm_control.configs --mode eval_deterministic\n"
     ]
    }
   ],
   "source": [
    "stdout('learner')"
   ]
  },
  {
   "cell_type": "code",
   "execution_count": 17,
   "metadata": {
    "collapsed": false
   },
   "outputs": [
    {
     "name": "stdout",
     "output_type": "stream",
     "text": [
      "==================== infras-dm_control:loggerplex ====================\n",
      "Restored session: Mon Jan  8 10:26:57 PST 2018\n",
      "DN0a22a051:main jirenz$  source activate surreal\n",
      " python -u -m surreal.session.run_loggerplex_server '{\"replay\": {\"evict_interval\": 0.0, \"port\": 7001, \"max_prefetch_batch_queue\": 10, \"tensorboard_display\": true, \"max_puller_queue\": 10000, \"host\": \"localhost\", \"sampler_host\": \"localhost\", \"sampler_port\": 7002}, \"folder\": \"~/Temp/dm_control\", \"agent\": {\"fetch_parameter_mode\": \"episode\"}, \"tensorplex\": {\"agent_bin_size\": 8, \"port\": 7005, \"tensorboard_port\": 6006, \"update_schedule\": {\"agent\": 20, \"learner\": 20, \"training_env\": 20, \"eval_env_sleep\": 30, \"eval_env\": 20}, \"host\": \"localhost\", \"max_processes\": 4}, \"loggerplex\": {\"port\": 7006, \"time_format\": \"hms\", \"overwrite\": false, \"show_level\": true, \"level\": \"info\", \"host\": \"localhost\"}, \"sender\": {\"flush_time\": 0, \"flush_iteration\": 100}, \"ps\": {\"publish_port\": 7004, \"port\": 7003, \"host\": \"\n",
      "localhost\", \"publish_host\": \"localhost\"}}'\n",
      "(surreal) DN0a22a051:main jirenz$  python -u -m surreal.session.run_loggerplex_server '{\"replay\": {\"evict_interval\": 0.0, \"port\": 7001, \"max_prefetch_batch_queue\": 10, \"tensorboard_display\": true, \"max_puller_queue\": 10000, \"host\": \"localhost\", \"sampler_host\": \"localhost\", \"sampler_port\": 7002}, \"folder\": \"~/Temp/dm_control\", \"agent\": {\"fetch_parameter_mode\": \"episode\"}, \"tensorplex\": {\"agent_bin_size\": 8, \"port\": 7005, \"tensorboard_port\": 6006, \"update_schedule\": {\"agent\": 20, \"learner\": 20, \"training_env\": 20, \"eval_env_sleep\": 30, \"eval_env\": 20}, \"host\": \"localhost\", \"max_processes\": 4}, \"loggerplex\": {\"port\": 7006, \"time_format\": \"hms\", \"overwrite\": false, \"show_level\": true, \"level\": \"info\", \"host\": \"localhost\"}, \"sender\": {\"flush_time\": 0, \"flush_iteration\": 100}, \"ps\": {\"publish_po\n",
      "rt\": 7004, \"port\": 7003, \"host\": \"localhost\", \"publish_host\": \"localhost\"}}'\n",
      "==================== infras-dm_control:tensorplex ====================\n",
      "DN0a22a051:main jirenz$  source activate surreal\n",
      " python -u -m surreal.session.run_tensorplex_server '{\"replay\": {\"evict_interval\": 0.0, \"port\": 7001, \"max_prefetch_batch_queue\": 10, \"tensorboard_display\": true, \"max_puller_queue\": 10000, \"host\": \"localhost\", \"sampler_host\": \"localhost\", \"sampler_port\": 7002}, \"folder\": \"~/Temp/dm_control\", \"agent\": {\"fetch_parameter_mode\": \"episode\"}, \"tensorplex\": {\"agent_bin_size\": 8, \"port\": 7005, \"tensorboard_port\": 6006, \"update_schedule\": {\"agent\": 20, \"learner\": 20, \"training_env\": 20, \"eval_env_sleep\": 30, \"eval_env\": 20}, \"host\": \"localhost\", \"max_processes\": 4}, \"loggerplex\": {\"port\": 7006, \"time_format\": \"hms\", \"overwrite\": false, \"show_level\": true, \"level\": \"info\", \"host\": \"localhost\"}, \"sender\": {\"flush_time\": 0, \"flush_iteration\": 100}, \"ps\": {\"publish_port\": 7004, \"port\": 7003, \"host\": \"\n",
      "localhost\", \"publish_host\": \"localhost\"}}'\n",
      "(surreal) DN0a22a051:main jirenz$  python -u -m surreal.session.run_tensorplex_server '{\"replay\": {\"evict_interval\": 0.0, \"port\": 7001, \"max_prefetch_batch_queue\": 10, \"tensorboard_display\": true, \"max_puller_queue\": 10000, \"host\": \"localhost\", \"sampler_host\": \"localhost\", \"sampler_port\": 7002}, \"folder\": \"~/Temp/dm_control\", \"agent\": {\"fetch_parameter_mode\": \"episode\"}, \"tensorplex\": {\"agent_bin_size\": 8, \"port\": 7005, \"tensorboard_port\": 6006, \"update_schedule\": {\"agent\": 20, \"learner\": 20, \"training_env\": 20, \"eval_env_sleep\": 30, \"eval_env\": 20}, \"host\": \"localhost\", \"max_processes\": 4}, \"loggerplex\": {\"port\": 7006, \"time_format\": \"hms\", \"overwrite\": false, \"show_level\": true, \"level\": \"info\", \"host\": \"localhost\"}, \"sender\": {\"flush_time\": 0, \"flush_iteration\": 100}, \"ps\": {\"publish_po\n",
      "rt\": 7004, \"port\": 7003, \"host\": \"localhost\", \"publish_host\": \"localhost\"}}'\n",
      "==================== infras-dm_control:tensorboard ====================\n",
      "DN0a22a051:main jirenz$  source activate surreal\n",
      " tensorboard --logdir ~/Temp/dm_control --port 6006\n",
      "(surreal) DN0a22a051:main jirenz$  tensorboard --logdir ~/Temp/dm_control --port 6006\n",
      "TensorBoard 0.4.0rc3 at http://DN0a22a051.SUNet:6006 (Press CTRL+C to quit)\n",
      "==================== infras-dm_control:ps ====================\n",
      "DN0a22a051:main jirenz$  source activate surreal\n",
      " python -u -m surreal.session.run_parameter_server '{\"replay\": {\"evict_interval\": 0.0, \"port\": 7001, \"max_prefetch_batch_queue\": 10, \"tensorboard_display\": true, \"max_puller_queue\": 10000, \"host\": \"localhost\", \"sampler_host\": \"localhost\", \"sampler_port\": 7002}, \"folder\": \"~/Temp/dm_control\", \"agent\": {\"fetch_parameter_mode\": \"episode\"}, \"tensorplex\": {\"agent_bin_size\": 8, \"port\": 7005, \"tensorboard_port\": 6006, \"update_schedule\": {\"agent\": 20, \"learner\": 20, \"training_env\": 20, \"eval_env_sleep\": 30, \"eval_env\": 20}, \"host\": \"localhost\", \"max_processes\": 4}, \"loggerplex\": {\"port\": 7006, \"time_format\": \"hms\", \"overwrite\": false, \"show_level\": true, \"level\": \"info\", \"host\": \"localhost\"}, \"sender\": {\"flush_time\": 0, \"flush_iteration\": 100}, \"ps\": {\"publish_port\": 7004, \"port\": 7003, \"host\": \"l\n",
      "ocalhost\", \"publish_host\": \"localhost\"}}'\n",
      "(surreal) DN0a22a051:main jirenz$  python -u -m surreal.session.run_parameter_server '{\"replay\": {\"evict_interval\": 0.0, \"port\": 7001, \"max_prefetch_batch_queue\": 10, \"tensorboard_display\": true, \"max_puller_queue\": 10000, \"host\": \"localhost\", \"sampler_host\": \"localhost\", \"sampler_port\": 7002}, \"folder\": \"~/Temp/dm_control\", \"agent\": {\"fetch_parameter_mode\": \"episode\"}, \"tensorplex\": {\"agent_bin_size\": 8, \"port\": 7005, \"tensorboard_port\": 6006, \"update_schedule\": {\"agent\": 20, \"learner\": 20, \"training_env\": 20, \"eval_env_sleep\": 30, \"eval_env\": 20}, \"host\": \"localhost\", \"max_processes\": 4}, \"loggerplex\": {\"port\": 7006, \"time_format\": \"hms\", \"overwrite\": false, \"show_level\": true, \"level\": \"info\", \"host\": \"localhost\"}, \"sender\": {\"flush_time\": 0, \"flush_iteration\": 100}, \"ps\": {\"publish_por\n",
      "t\": 7004, \"port\": 7003, \"host\": \"localhost\", \"publish_host\": \"localhost\"}}'\n"
     ]
    }
   ],
   "source": [
    "stdout('infras')"
   ]
  },
  {
   "cell_type": "code",
   "execution_count": 200,
   "metadata": {
    "collapsed": false
   },
   "outputs": [
    {
     "name": "stdout",
     "output_type": "stream",
     "text": [
      "learner-dm_control:visual\t>>\tpython /Users/jirenz/Dropbox/Projects/AdversarialRL/Surreal/surreal/main/dm_control/run_eval.py surreal.main.dm_control.configs --mode eval_deterministic --id 1 --render\n"
     ]
    }
   ],
   "source": [
    "cluster.add_evals(['visual'], ['--mode eval_deterministic --id 1 --render'])"
   ]
  },
  {
   "cell_type": "code",
   "execution_count": null,
   "metadata": {
    "collapsed": true
   },
   "outputs": [],
   "source": []
  },
  {
   "cell_type": "code",
   "execution_count": null,
   "metadata": {
    "collapsed": false
   },
   "outputs": [],
   "source": [
    "add_agents(8,16)"
   ]
  },
  {
   "cell_type": "code",
   "execution_count": null,
   "metadata": {
    "collapsed": false
   },
   "outputs": [],
   "source": [
    "cluster.add_evals(['visuals'], ['--mode eval_stochastic --id 2 --render'])"
   ]
  },
  {
   "cell_type": "code",
   "execution_count": null,
   "metadata": {
    "collapsed": true
   },
   "outputs": [],
   "source": []
  }
 ],
 "metadata": {
  "kernelspec": {
   "display_name": "surreal",
   "language": "python",
   "name": "surreal"
  },
  "language_info": {
   "codemirror_mode": {
    "name": "ipython",
    "version": 3
   },
   "file_extension": ".py",
   "mimetype": "text/x-python",
   "name": "python",
   "nbconvert_exporter": "python",
   "pygments_lexer": "ipython3",
   "version": "3.5.2"
  },
  "toc": {
   "nav_menu": {},
   "number_sections": true,
   "sideBar": true,
   "skip_h1_title": false,
   "toc_cell": false,
   "toc_position": {},
   "toc_section_display": "block",
   "toc_window_display": false
  },
  "varInspector": {
   "cols": {
    "lenName": 16,
    "lenType": 16,
    "lenVar": 40
   },
   "kernels_config": {
    "python": {
     "delete_cmd_postfix": "",
     "delete_cmd_prefix": "del ",
     "library": "var_list.py",
     "varRefreshCmd": "print(var_dic_list())"
    },
    "r": {
     "delete_cmd_postfix": ") ",
     "delete_cmd_prefix": "rm(",
     "library": "var_list.r",
     "varRefreshCmd": "cat(var_dic_list()) "
    }
   },
   "types_to_exclude": [
    "module",
    "function",
    "builtin_function_or_method",
    "instance",
    "_Feature"
   ],
   "window_display": false
  }
 },
 "nbformat": 4,
 "nbformat_minor": 1
}
