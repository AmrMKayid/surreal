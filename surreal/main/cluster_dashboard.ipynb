{
 "cells": [
  {
   "cell_type": "code",
   "execution_count": 1,
   "metadata": {
    "init_cell": true
   },
   "outputs": [],
   "source": [
    "import importlib\n",
    "from surreal.session.jupyter.tmux_cluster import *"
   ]
  },
  {
   "cell_type": "code",
   "execution_count": 2,
   "metadata": {
    "code_folding": [],
    "init_cell": true
   },
   "outputs": [],
   "source": [
    "EXPERIMENT = 'dqn_cartpole'\n",
    "EXPERIMENT = 'ddpg'\n",
    "\n",
    "_pkg = 'surreal.main.' + EXPERIMENT + '.'\n",
    "config_pkg = importlib.import_module(_pkg + 'configs')\n",
    "session_config = config_pkg.session_config\n",
    "cluster = TmuxCluster(\n",
    "    cluster_name=EXPERIMENT,\n",
    "    session_config=session_config,\n",
    "    agent_script=_pkg + 'run_agent',\n",
    "    learner_script=_pkg + 'run_learner',\n",
    "    replay_script=_pkg + 'run_replay',\n",
    "    eval_script=_pkg + 'run_eval',\n",
    "#     preamble_cmd='source activate py27',\n",
    "    dry_run=0,\n",
    ")\n",
    "# magic method to enable shorthand commands\n",
    "set_cluster_var(globals(), 'cluster')"
   ]
  },
  {
   "cell_type": "code",
   "execution_count": 26,
   "metadata": {},
   "outputs": [
    {
     "name": "stdout",
     "output_type": "stream",
     "text": [
      "session agent-dqn_cartpole killed\n",
      "session learner-dqn_cartpole killed\n",
      "session infras-dqn_cartpole killed\n",
      "Experiment folder \"~/Temp/cartpole\" removed.\n"
     ]
    }
   ],
   "source": [
    "killall()"
   ]
  },
  {
   "cell_type": "code",
   "execution_count": 3,
   "metadata": {},
   "outputs": [
    {
     "name": "stdout",
     "output_type": "stream",
     "text": [
      "Experiment folder \"~/Temp/halfcheetah\" removed.\n",
      "infras-ddpg:loggerplex\t>>\tpython -u -m surreal.session.run_loggerplex_server '{\"sender\": {\"flush_iteration\": 100, \"flush_time\": 0}, \"tensorplex\": {\"host\": \"localhost\", \"max_processes\": 4, \"update_schedule\": {\"training_env\": 20, \"agent\": 50, \"eval_env\": 20, \"learner\": 20, \"eval_env_sleep\": 30}, \"tensorboard_port\": 6006, \"agent_bin_size\": 8, \"port\": 7005}, \"ps\": {\"host\": \"localhost\", \"publish_host\": \"localhost\", \"publish_port\": 7004, \"port\": 7003}, \"replay\": {\"host\": \"localhost\", \"sampler_host\": \"localhost\", \"max_puller_queue\": 10000, \"sampler_port\": 7002, \"max_prefetch_batch_queue\": 10, \"tensorboard_display\": true, \"port\": 7001, \"evict_interval\": 0.0}, \"folder\": \"~/Temp/halfcheetah\", \"loggerplex\": {\"host\": \"localhost\", \"show_level\": true, \"time_format\": \"hms\", \"level\": \"info\", \"overwrite\": false, \"port\": 7006}}'\n",
      "infras-ddpg:tensorplex\t>>\tpython -u -m surreal.session.run_tensorplex_server '{\"sender\": {\"flush_iteration\": 100, \"flush_time\": 0}, \"tensorplex\": {\"host\": \"localhost\", \"max_processes\": 4, \"update_schedule\": {\"training_env\": 20, \"agent\": 50, \"eval_env\": 20, \"learner\": 20, \"eval_env_sleep\": 30}, \"tensorboard_port\": 6006, \"agent_bin_size\": 8, \"port\": 7005}, \"ps\": {\"host\": \"localhost\", \"publish_host\": \"localhost\", \"publish_port\": 7004, \"port\": 7003}, \"replay\": {\"host\": \"localhost\", \"sampler_host\": \"localhost\", \"max_puller_queue\": 10000, \"sampler_port\": 7002, \"max_prefetch_batch_queue\": 10, \"tensorboard_display\": true, \"port\": 7001, \"evict_interval\": 0.0}, \"folder\": \"~/Temp/halfcheetah\", \"loggerplex\": {\"host\": \"localhost\", \"show_level\": true, \"time_format\": \"hms\", \"level\": \"info\", \"overwrite\": false, \"port\": 7006}}'\n",
      "infras-ddpg:tensorboard\t>>\ttensorboard --logdir ~/Temp/halfcheetah --port 6006\n",
      "infras-ddpg:ps\t>>\tpython -u -m surreal.session.run_parameter_server '{\"sender\": {\"flush_iteration\": 100, \"flush_time\": 0}, \"tensorplex\": {\"host\": \"localhost\", \"max_processes\": 4, \"update_schedule\": {\"training_env\": 20, \"agent\": 50, \"eval_env\": 20, \"learner\": 20, \"eval_env_sleep\": 30}, \"tensorboard_port\": 6006, \"agent_bin_size\": 8, \"port\": 7005}, \"ps\": {\"host\": \"localhost\", \"publish_host\": \"localhost\", \"publish_port\": 7004, \"port\": 7003}, \"replay\": {\"host\": \"localhost\", \"sampler_host\": \"localhost\", \"max_puller_queue\": 10000, \"sampler_port\": 7002, \"max_prefetch_batch_queue\": 10, \"tensorboard_display\": true, \"port\": 7001, \"evict_interval\": 0.0}, \"folder\": \"~/Temp/halfcheetah\", \"loggerplex\": {\"host\": \"localhost\", \"show_level\": true, \"time_format\": \"hms\", \"level\": \"info\", \"overwrite\": false, \"port\": 7006}}'\n",
      "learner-ddpg:replay\t>>\tpython -u -m surreal.main.ddpg.run_replay\n",
      "learner-ddpg:learner\t>>\tpython -u -m surreal.main.ddpg.run_learner\n",
      "learner-ddpg:eval_d\t>>\tpython -u -m surreal.main.ddpg.run_eval --mode eval_deterministic\n",
      "agent-ddpg:A0\t>>\tpython -u -m surreal.main.ddpg.run_agent 0\n",
      "agent-ddpg:A1\t>>\tpython -u -m surreal.main.ddpg.run_agent 1\n",
      "No error found in cluster.\n"
     ]
    }
   ],
   "source": [
    "killall()\n",
    "sleep(1)\n",
    "launch(0, 2, eval=0)\n",
    "sleep(2)\n",
    "error()"
   ]
  },
  {
   "cell_type": "code",
   "execution_count": 49,
   "metadata": {},
   "outputs": [
    {
     "name": "stdout",
     "output_type": "stream",
     "text": [
      "==================== agent-ddpg:A0 ====================\n",
      ".../Surreal/surreal/main [exp0@gcloud]\n",
      "$  python -u -m surreal.main.ddpg.run_agent 0\n",
      "[2017-12-01 23:39:27,260] Making new env: HalfCheetah-v1\n",
      "==================== agent-ddpg:A1 ====================\n",
      " python -u -m surreal.main.ddpg.run_agent 1\n",
      ".../Surreal/surreal/main [exp0@gcloud]\n",
      "$  python -u -m surreal.main.ddpg.run_agent 1\n",
      "[2017-12-01 23:39:27,450] Making new env: HalfCheetah-v1\n"
     ]
    }
   ],
   "source": [
    "stdout('agent')"
   ]
  },
  {
   "cell_type": "code",
   "execution_count": 5,
   "metadata": {},
   "outputs": [
    {
     "name": "stdout",
     "output_type": "stream",
     "text": [
      "learner-ddpg:visual\t>>\tpython -u -m surreal.main.ddpg.run_eval --mode eval_stochastic --id 1 --render\n"
     ]
    }
   ],
   "source": [
    "cluster.add_evals(['visual'], ['--mode eval_stochastic --id 1 --render'])"
   ]
  },
  {
   "cell_type": "code",
   "execution_count": 23,
   "metadata": {},
   "outputs": [
    {
     "name": "stdout",
     "output_type": "stream",
     "text": [
      "agent-dqn_cartpole:A8\t>>\tpython -u -m surreal.main.dqn_cartpole.run_agent 8\n",
      "agent-dqn_cartpole:A9\t>>\tpython -u -m surreal.main.dqn_cartpole.run_agent 9\n",
      "agent-dqn_cartpole:A10\t>>\tpython -u -m surreal.main.dqn_cartpole.run_agent 10\n",
      "agent-dqn_cartpole:A11\t>>\tpython -u -m surreal.main.dqn_cartpole.run_agent 11\n",
      "agent-dqn_cartpole:A12\t>>\tpython -u -m surreal.main.dqn_cartpole.run_agent 12\n",
      "agent-dqn_cartpole:A13\t>>\tpython -u -m surreal.main.dqn_cartpole.run_agent 13\n",
      "agent-dqn_cartpole:A14\t>>\tpython -u -m surreal.main.dqn_cartpole.run_agent 14\n",
      "agent-dqn_cartpole:A15\t>>\tpython -u -m surreal.main.dqn_cartpole.run_agent 15\n"
     ]
    }
   ],
   "source": [
    "add_agents(8,16)"
   ]
  },
  {
   "cell_type": "code",
   "execution_count": null,
   "metadata": {},
   "outputs": [],
   "source": []
  }
 ],
 "metadata": {
  "kernelspec": {
   "display_name": "Python [default]",
   "language": "python",
   "name": "python3"
  },
  "language_info": {
   "codemirror_mode": {
    "name": "ipython",
    "version": 3
   },
   "file_extension": ".py",
   "mimetype": "text/x-python",
   "name": "python",
   "nbconvert_exporter": "python",
   "pygments_lexer": "ipython3",
   "version": "3.5.2"
  },
  "toc": {
   "nav_menu": {},
   "number_sections": true,
   "sideBar": true,
   "skip_h1_title": false,
   "toc_cell": false,
   "toc_position": {},
   "toc_section_display": "block",
   "toc_window_display": false
  },
  "varInspector": {
   "cols": {
    "lenName": 16,
    "lenType": 16,
    "lenVar": 40
   },
   "kernels_config": {
    "python": {
     "delete_cmd_postfix": "",
     "delete_cmd_prefix": "del ",
     "library": "var_list.py",
     "varRefreshCmd": "print(var_dic_list())"
    },
    "r": {
     "delete_cmd_postfix": ") ",
     "delete_cmd_prefix": "rm(",
     "library": "var_list.r",
     "varRefreshCmd": "cat(var_dic_list()) "
    }
   },
   "types_to_exclude": [
    "module",
    "function",
    "builtin_function_or_method",
    "instance",
    "_Feature"
   ],
   "window_display": false
  }
 },
 "nbformat": 4,
 "nbformat_minor": 1
}
