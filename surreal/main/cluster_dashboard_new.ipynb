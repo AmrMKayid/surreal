{
 "cells": [
  {
   "cell_type": "code",
   "execution_count": 1,
   "metadata": {
    "collapsed": false,
    "init_cell": true
   },
   "outputs": [],
   "source": [
    "import importlib\n",
    "from surreal.orchestrate.jupyter.tmux_cluster import *"
   ]
  },
  {
   "cell_type": "code",
   "execution_count": 2,
   "metadata": {
    "code_folding": [],
    "collapsed": false,
    "init_cell": true
   },
   "outputs": [],
   "source": [
    "EXPERIMENT = 'dm_control'\n",
    "\n",
    "# PUT IN THE PATH TO configs.py\n",
    "cluster = TmuxCluster(\n",
    "    cluster_name=EXPERIMENT,\n",
    "    config_path='~/Surreal/surreal/main/dm_control/configs.py',\n",
    "    preamble_cmd='source activate surrealmjgym',\n",
    "    dry_run=0,\n",
    ")\n",
    "# magic method to enable shorthand commands\n",
    "set_cluster_var(globals(), 'cluster')"
   ]
  },
  {
   "cell_type": "code",
   "execution_count": 8,
   "metadata": {
    "collapsed": false
   },
   "outputs": [
    {
     "name": "stdout",
     "output_type": "stream",
     "text": [
      "session agent-dm_control killed\n",
      "session learner-dm_control killed\n",
      "session infras-dm_control killed\n",
      "Experiment folder \"~/Temp/dm_control\" removed.\n"
     ]
    }
   ],
   "source": [
    "killall()"
   ]
  },
  {
   "cell_type": "code",
   "execution_count": 4,
   "metadata": {
    "collapsed": false
   },
   "outputs": [
    {
     "name": "stdout",
     "output_type": "stream",
     "text": [
      "Experiment folder \"~/Temp/dm_control\" removed.\n",
      "infras-dm_control:loggerplex\t>>\tpython -u -m surreal.main_scripts.runner ~/Surreal/surreal/main/dm_control/configs.py loggerplex\n",
      "infras-dm_control:tensorplex\t>>\tpython -u -m surreal.main_scripts.runner ~/Surreal/surreal/main/dm_control/configs.py tensorplex\n",
      "infras-dm_control:tensorboard\t>>\tpython -u -m surreal.main_scripts.runner ~/Surreal/surreal/main/dm_control/configs.py tensorboard\n",
      "infras-dm_control:ps\t>>\tpython -u -m surreal.main_scripts.runner ~/Surreal/surreal/main/dm_control/configs.py ps\n",
      "learner-dm_control:replay\t>>\tpython -u -m surreal.main_scripts.runner ~/Surreal/surreal/main/dm_control/configs.py replay\n",
      "learner-dm_control:learner\t>>\tpython -u -m surreal.main_scripts.runner ~/Surreal/surreal/main/dm_control/configs.py learner\n",
      "learner-dm_control:eval_d\t>>\tpython -u -m surreal.main_scripts.runner ~/Surreal/surreal/main/dm_control/configs.py eval --mode eval_deterministic\n",
      "agent-dm_control:A0\t>>\tpython -u -m surreal.main_scripts.runner ~/Surreal/surreal/main/dm_control/configs.py agent 0\n",
      "agent-dm_control:A1\t>>\tpython -u -m surreal.main_scripts.runner ~/Surreal/surreal/main/dm_control/configs.py agent 1\n",
      "No error found in cluster.\n"
     ]
    }
   ],
   "source": [
    "killall()\n",
    "sleep(1)\n",
    "launch(0, 2, eval=0)\n",
    "sleep(2)\n",
    "error()"
   ]
  },
  {
   "cell_type": "code",
   "execution_count": 5,
   "metadata": {
    "collapsed": false,
    "scrolled": false
   },
   "outputs": [
    {
     "name": "stdout",
     "output_type": "stream",
     "text": [
      "==================== agent-dm_control:A0 ====================\n",
      "DN0a1f0454:main jirenz$  source activate surrealmjgym\n",
      " python -u -m surreal.main_scripts.runner ~/Surreal/surreal/main/dm_control/configs.py agent 0\n",
      "(surrealmjgym) DN0a1f0454:main jirenz$  python -u -m surreal.main_scripts.runner ~/Surreal/surreal/main/dm_control/configs.py agent 0\n",
      "╒═════════════════╤═══════════╕\n",
      "│ Last 10 rewards │     2.556 │\n",
      "├─────────────────┼───────────┤\n",
      "│ Speed iter/s    │   540.7   │\n",
      "├─────────────────┼───────────┤\n",
      "│ Total steps     │ 10010     │\n",
      "├─────────────────┼───────────┤\n",
      "│ Episodes        │    10     │\n",
      "╘═════════════════╧═══════════╛\n",
      "==================== agent-dm_control:A1 ====================\n",
      "DN0a1f0454:main jirenz$  source activate surrealmjgym\n",
      " python -u -m surreal.main_scripts.runner ~/Surreal/surreal/main/dm_control/configs.py agent 1\n",
      "(surrealmjgym) DN0a1f0454:main jirenz$  python -u -m surreal.main_scripts.runner ~/Surreal/surreal/main/dm_control/configs.py agent 1\n",
      "╒═════════════════╤═══════════╕\n",
      "│ Last 10 rewards │     2.016 │\n",
      "├─────────────────┼───────────┤\n",
      "│ Speed iter/s    │   528.3   │\n",
      "├─────────────────┼───────────┤\n",
      "│ Total steps     │ 10010     │\n",
      "├─────────────────┼───────────┤\n",
      "│ Episodes        │    10     │\n",
      "╘═════════════════╧═══════════╛\n"
     ]
    }
   ],
   "source": [
    "stdout('agent')"
   ]
  },
  {
   "cell_type": "code",
   "execution_count": 6,
   "metadata": {
    "collapsed": false,
    "scrolled": false
   },
   "outputs": [
    {
     "name": "stdout",
     "output_type": "stream",
     "text": [
      "==================== learner-dm_control:replay ====================\n",
      "DN0a1f0454:main jirenz$  source activate surrealmjgym\n",
      " python -u -m surreal.main_scripts.runner ~/Surreal/surreal/main/dm_control/configs.py replay\n",
      "(surrealmjgym) DN0a1f0454:main jirenz$  python -u -m surreal.main_scripts.runner ~/Surreal/surreal/main/dm_control/configs.py replay\n",
      "==================== learner-dm_control:learner ====================\n",
      "DN0a1f0454:main jirenz$  source activate surrealmjgym\n",
      " python -u -m surreal.main_scripts.runner ~/Surreal/surreal/main/dm_control/configs.py learner\n",
      "(surrealmjgym) DN0a1f0454:main jirenz$  python -u -m surreal.main_scripts.runner ~/Surreal/surreal/main/dm_control/configs.py learner\n",
      "==================== learner-dm_control:eval_d ====================\n",
      "DN0a1f0454:main jirenz$  source activate surrealmjgym\n",
      " python -u -m surreal.main_scripts.runner ~/Surreal/surreal/main/dm_control/configs.py eval --mode eval_deterministic\n",
      "(surrealmjgym) DN0a1f0454:main jirenz$  python -u -m surreal.main_scripts.runner ~/Surreal/surreal/main/dm_control/configs.py eval --mode eval_deterministic\n"
     ]
    }
   ],
   "source": [
    "stdout('learner')"
   ]
  },
  {
   "cell_type": "code",
   "execution_count": 7,
   "metadata": {
    "collapsed": false
   },
   "outputs": [
    {
     "name": "stdout",
     "output_type": "stream",
     "text": [
      "==================== infras-dm_control:loggerplex ====================\n",
      "Restored session: Wed Jan 24 18:12:29 PST 2018\n",
      "DN0a1f0454:main jirenz$  source activate surrealmjgym\n",
      " python -u -m surreal.main_scripts.runner ~/Surreal/surreal/main/dm_control/configs.py loggerplex\n",
      "(surrealmjgym) DN0a1f0454:main jirenz$  python -u -m surreal.main_scripts.runner ~/Surreal/surreal/main/dm_control/configs.py loggerplex\n",
      "==================== infras-dm_control:tensorplex ====================\n",
      "DN0a1f0454:main jirenz$  source activate surrealmjgym\n",
      " python -u -m surreal.main_scripts.runner ~/Surreal/surreal/main/dm_control/configs.py tensorplex\n",
      "(surrealmjgym) DN0a1f0454:main jirenz$  python -u -m surreal.main_scripts.runner ~/Surreal/surreal/main/dm_control/configs.py tensorplex\n",
      "==================== infras-dm_control:tensorboard ====================\n",
      "DN0a1f0454:main jirenz$  source activate surrealmjgym\n",
      " python -u -m surreal.main_scripts.runner ~/Surreal/surreal/main/dm_control/configs.py tensorboard\n",
      "(surrealmjgym) DN0a1f0454:main jirenz$  python -u -m surreal.main_scripts.runner ~/Surreal/surreal/main/dm_control/configs.py tensorboard\n",
      "TensorBoard 0.4.0rc3 at http://DN0a1f0454.SUNet:6006 (Press CTRL+C to quit)\n",
      "==================== infras-dm_control:ps ====================\n",
      "DN0a1f0454:main jirenz$  source activate surrealmjgym\n",
      " python -u -m surreal.main_scripts.runner ~/Surreal/surreal/main/dm_control/configs.py ps\n",
      "(surrealmjgym) DN0a1f0454:main jirenz$  python -u -m surreal.main_scripts.runner ~/Surreal/surreal/main/dm_control/configs.py ps\n"
     ]
    }
   ],
   "source": [
    "stdout('infras')"
   ]
  },
  {
   "cell_type": "code",
   "execution_count": null,
   "metadata": {
    "collapsed": false
   },
   "outputs": [],
   "source": [
    "cluster.add_evals(['visual'], ['--mode eval_deterministic --id 1 --render'])"
   ]
  },
  {
   "cell_type": "code",
   "execution_count": null,
   "metadata": {
    "collapsed": false
   },
   "outputs": [],
   "source": [
    "cluster.add_evals(['visuals'], ['--mode eval_stochastic --id 2 --render'])"
   ]
  }
 ],
 "metadata": {
  "kernelspec": {
   "display_name": "surreal",
   "language": "python",
   "name": "surreal"
  },
  "language_info": {
   "codemirror_mode": {
    "name": "ipython",
    "version": 3
   },
   "file_extension": ".py",
   "mimetype": "text/x-python",
   "name": "python",
   "nbconvert_exporter": "python",
   "pygments_lexer": "ipython3",
   "version": "3.5.2"
  },
  "toc": {
   "nav_menu": {},
   "number_sections": true,
   "sideBar": true,
   "skip_h1_title": false,
   "toc_cell": false,
   "toc_position": {},
   "toc_section_display": "block",
   "toc_window_display": false
  },
  "varInspector": {
   "cols": {
    "lenName": 16,
    "lenType": 16,
    "lenVar": 40
   },
   "kernels_config": {
    "python": {
     "delete_cmd_postfix": "",
     "delete_cmd_prefix": "del ",
     "library": "var_list.py",
     "varRefreshCmd": "print(var_dic_list())"
    },
    "r": {
     "delete_cmd_postfix": ") ",
     "delete_cmd_prefix": "rm(",
     "library": "var_list.r",
     "varRefreshCmd": "cat(var_dic_list()) "
    }
   },
   "types_to_exclude": [
    "module",
    "function",
    "builtin_function_or_method",
    "instance",
    "_Feature"
   ],
   "window_display": false
  }
 },
 "nbformat": 4,
 "nbformat_minor": 1
}
