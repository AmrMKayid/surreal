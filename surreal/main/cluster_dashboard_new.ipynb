{
 "cells": [
  {
   "cell_type": "code",
   "execution_count": 1,
   "metadata": {
    "collapsed": false,
    "init_cell": true
   },
   "outputs": [],
   "source": [
    "import importlib\n",
    "from surreal.orchestrate.jupyter.tmux_cluster import *"
   ]
  },
  {
   "cell_type": "code",
   "execution_count": 9,
   "metadata": {
    "code_folding": [],
    "collapsed": false,
    "init_cell": true
   },
   "outputs": [],
   "source": [
    "EXPERIMENT = 'dm_control'\n",
    "\n",
    "# PUT IN THE PATH TO configs.py\n",
    "cluster = TmuxCluster(\n",
    "    cluster_name=EXPERIMENT,\n",
    "    config_path='~/Surreal/surreal/main/ddpg_configs.py',\n",
    "    preamble_cmd='source activate surreal',\n",
    "    cluster_config_cmd='--env \"dm_control:cheetah-run\" --savefile ~/surreal_experiments',\n",
    "    dry_run=0,\n",
    ")\n",
    "# magic method to enable shorthand commands\n",
    "set_cluster_var(globals(), 'cluster')"
   ]
  },
  {
   "cell_type": "code",
   "execution_count": 20,
   "metadata": {
    "collapsed": false
   },
   "outputs": [
    {
     "name": "stdout",
     "output_type": "stream",
     "text": [
      "session agent-dm_control killed\n",
      "session learner-dm_control killed\n",
      "session infras-dm_control killed\n",
      "Experiment folder \"~/surreal_experiments\" removed.\n"
     ]
    }
   ],
   "source": [
    "killall()"
   ]
  },
  {
   "cell_type": "code",
   "execution_count": 11,
   "metadata": {
    "collapsed": false,
    "scrolled": false
   },
   "outputs": [
    {
     "name": "stdout",
     "output_type": "stream",
     "text": [
      "Experiment folder \"~/surreal_experiments\" removed.\n",
      "infras-dm_control:loggerplex\t>>\tpython -u -m surreal.main_scripts.runner ~/Surreal/surreal/main/ddpg_configs.py --config-command '--env \"dm_control:cheetah-run\" --savefile ~/surreal_experiments' loggerplex\n",
      "infras-dm_control:tensorplex\t>>\tpython -u -m surreal.main_scripts.runner ~/Surreal/surreal/main/ddpg_configs.py --config-command '--env \"dm_control:cheetah-run\" --savefile ~/surreal_experiments' tensorplex\n",
      "infras-dm_control:tensorboard\t>>\tpython -u -m surreal.main_scripts.runner ~/Surreal/surreal/main/ddpg_configs.py --config-command '--env \"dm_control:cheetah-run\" --savefile ~/surreal_experiments' tensorboard\n",
      "infras-dm_control:ps\t>>\tpython -u -m surreal.main_scripts.runner ~/Surreal/surreal/main/ddpg_configs.py --config-command '--env \"dm_control:cheetah-run\" --savefile ~/surreal_experiments' ps\n",
      "learner-dm_control:replay\t>>\tpython -u -m surreal.main_scripts.runner ~/Surreal/surreal/main/ddpg_configs.py --config-command '--env \"dm_control:cheetah-run\" --savefile ~/surreal_experiments' replay\n",
      "learner-dm_control:learner\t>>\tpython -u -m surreal.main_scripts.runner ~/Surreal/surreal/main/ddpg_configs.py --config-command '--env \"dm_control:cheetah-run\" --savefile ~/surreal_experiments' learner\n",
      "learner-dm_control:eval_d\t>>\tpython -u -m surreal.main_scripts.runner ~/Surreal/surreal/main/ddpg_configs.py --config-command '--env \"dm_control:cheetah-run\" --savefile ~/surreal_experiments' eval --mode eval_deterministic\n",
      "agent-dm_control:A0\t>>\tpython -u -m surreal.main_scripts.runner ~/Surreal/surreal/main/ddpg_configs.py --config-command '--env \"dm_control:cheetah-run\" --savefile ~/surreal_experiments' agent 0\n",
      "No error found in cluster.\n"
     ]
    }
   ],
   "source": [
    "killall()\n",
    "sleep(1)\n",
    "launch(0, 1, eval=0)\n",
    "sleep(2)\n",
    "error()"
   ]
  },
  {
   "cell_type": "code",
   "execution_count": 17,
   "metadata": {
    "collapsed": false,
    "scrolled": false
   },
   "outputs": [
    {
     "name": "stdout",
     "output_type": "stream",
     "text": [
      "==================== learner-dm_control:replay ====================\n",
      "DN0a221239:main jirenz$  source activate surreal\n",
      " python -u -m surreal.main_scripts.runner ~/Surreal/surreal/main/ddpg_configs.py --config-command '--env \"dm_control:cheetah-run\" --savefile ~/surreal_experiments' replay\n",
      "(surreal) DN0a221239:main jirenz$  python -u -m surreal.main_scripts.runner ~/Surreal/surreal/main/ddpg_configs.py --config-command '--env \"dm_control:cheetah-run\" --savefile ~/surreal_experiments' replay\n",
      "==================== learner-dm_control:learner ====================\n",
      "DN0a221239:main jirenz$  source activate surreal\n",
      " python -u -m surreal.main_scripts.runner ~/Surreal/surreal/main/ddpg_configs.py --config-command '--env \"dm_control:cheetah-run\" --savefile ~/surreal_experiments' learner\n",
      "(surreal) DN0a221239:main jirenz$  python -u -m surreal.main_scripts.runner ~/Surreal/surreal/main/ddpg_configs.py --config-command '--env \"dm_control:cheetah-run\" --savefile ~/surreal_experiments' learner\n",
      "==================== learner-dm_control:eval_d ====================\n",
      "DN0a221239:main jirenz$  source activate surreal\n",
      " python -u -m surreal.main_scripts.runner ~/Surreal/surreal/main/ddpg_configs.py --config-command '--env \"dm_control:cheetah-run\" --savefile ~/surreal_experiments' eval --mode eval_deterministic\n",
      "(surreal) DN0a221239:main jirenz$  python -u -m surreal.main_scripts.runner ~/Surreal/surreal/main/ddpg_configs.py --config-command '--env \"dm_control:cheetah-run\" --savefile ~/surreal_experiments' eval --mode eval_deterministic\n"
     ]
    }
   ],
   "source": [
    "stdout('learner')"
   ]
  },
  {
   "cell_type": "code",
   "execution_count": 18,
   "metadata": {
    "collapsed": false,
    "scrolled": false
   },
   "outputs": [
    {
     "name": "stdout",
     "output_type": "stream",
     "text": [
      "==================== agent-dm_control:A0 ====================\n",
      "DN0a221239:main jirenz$  source activate surreal\n",
      " python -u -m surreal.main_scripts.runner ~/Surreal/surreal/main/ddpg_configs.py --config-command '--env \"dm_control:cheetah-run\" --savefile ~/surreal_experiments' agent 0\n",
      "(surreal) DN0a221239:main jirenz$  python -u -m surreal.main_scripts.runner ~/Surreal/surreal/main/ddpg_configs.py --config-command '--env \"dm_control:cheetah-run\" --savefile ~/surreal_experiments' agent 0\n"
     ]
    }
   ],
   "source": [
    "stdout('agent')"
   ]
  },
  {
   "cell_type": "code",
   "execution_count": 19,
   "metadata": {
    "collapsed": false
   },
   "outputs": [
    {
     "name": "stdout",
     "output_type": "stream",
     "text": [
      "==================== infras-dm_control:loggerplex ====================\n",
      "Restored session: Mon Jan 29 15:05:24 PST 2018\n",
      "DN0a221239:main jirenz$  source activate surreal\n",
      " python -u -m surreal.main_scripts.runner ~/Surreal/surreal/main/ddpg_configs.py --config-command '--env \"dm_control:cheetah-run\" --savefile ~/surreal_experiments' loggerplex\n",
      "(surreal) DN0a221239:main jirenz$  python -u -m surreal.main_scripts.runner ~/Surreal/surreal/main/ddpg_configs.py --config-command '--env \"dm_control:cheetah-run\" --savefile ~/surreal_experiments' loggerplex\n",
      "==================== infras-dm_control:tensorplex ====================\n",
      "DN0a221239:main jirenz$  source activate surreal\n",
      " python -u -m surreal.main_scripts.runner ~/Surreal/surreal/main/ddpg_configs.py --config-command '--env \"dm_control:cheetah-run\" --savefile ~/surreal_experiments' tensorplex\n",
      "(surreal) DN0a221239:main jirenz$  python -u -m surreal.main_scripts.runner ~/Surreal/surreal/main/ddpg_configs.py --config-command '--env \"dm_control:cheetah-run\" --savefile ~/surreal_experiments' tensorplex\n",
      "==================== infras-dm_control:tensorboard ====================\n",
      "DN0a221239:main jirenz$  source activate surreal\n",
      " python -u -m surreal.main_scripts.runner ~/Surreal/surreal/main/ddpg_configs.py --config-command '--env \"dm_control:cheetah-run\" --savefile ~/surreal_experiments' tensorboard\n",
      "(surreal) DN0a221239:main jirenz$  python -u -m surreal.main_scripts.runner ~/Surreal/surreal/main/ddpg_configs.py --config-command '--env \"dm_control:cheetah-run\" --savefile ~/surreal_experiments' tensorboard\n",
      "TensorBoard 0.4.0rc3 at http://DN0a221239.SUNet:6006 (Press CTRL+C to quit)\n",
      "==================== infras-dm_control:ps ====================\n",
      "DN0a221239:main jirenz$  source activate surreal\n",
      " python -u -m surreal.main_scripts.runner ~/Surreal/surreal/main/ddpg_configs.py --config-command '--env \"dm_control:cheetah-run\" --savefile ~/surreal_experiments' ps\n",
      "(surreal) DN0a221239:main jirenz$  python -u -m surreal.main_scripts.runner ~/Surreal/surreal/main/ddpg_configs.py --config-command '--env \"dm_control:cheetah-run\" --savefile ~/surreal_experiments' ps\n"
     ]
    }
   ],
   "source": [
    "stdout('infras')"
   ]
  },
  {
   "cell_type": "code",
   "execution_count": 15,
   "metadata": {
    "collapsed": false
   },
   "outputs": [
    {
     "name": "stdout",
     "output_type": "stream",
     "text": [
      "learner-dm_control:visual\t>>\tpython -u -m surreal.main_scripts.runner ~/Surreal/surreal/main/ddpg_configs.py --config-command '--env \"dm_control:cheetah-run\" --savefile ~/surreal_experiments' eval --mode eval_deterministic --id 1 --render\n"
     ]
    }
   ],
   "source": [
    "cluster.add_evals(['visual'], ['--mode eval_deterministic --id 1 --render'])"
   ]
  },
  {
   "cell_type": "code",
   "execution_count": 16,
   "metadata": {
    "collapsed": false
   },
   "outputs": [
    {
     "name": "stdout",
     "output_type": "stream",
     "text": [
      "learner-dm_control:visual killed\n"
     ]
    }
   ],
   "source": [
    "cluster.kill_evals(['visual'])"
   ]
  },
  {
   "cell_type": "code",
   "execution_count": null,
   "metadata": {
    "collapsed": false
   },
   "outputs": [],
   "source": [
    "cluster.add_evals(['visuals'], ['--mode eval_stochastic --id 2 --render'])"
   ]
  }
 ],
 "metadata": {
  "kernelspec": {
   "display_name": "surreal",
   "language": "python",
   "name": "surreal"
  },
  "language_info": {
   "codemirror_mode": {
    "name": "ipython",
    "version": 3
   },
   "file_extension": ".py",
   "mimetype": "text/x-python",
   "name": "python",
   "nbconvert_exporter": "python",
   "pygments_lexer": "ipython3",
   "version": "3.5.2"
  },
  "toc": {
   "nav_menu": {},
   "number_sections": true,
   "sideBar": true,
   "skip_h1_title": false,
   "toc_cell": false,
   "toc_position": {},
   "toc_section_display": "block",
   "toc_window_display": false
  },
  "varInspector": {
   "cols": {
    "lenName": 16,
    "lenType": 16,
    "lenVar": 40
   },
   "kernels_config": {
    "python": {
     "delete_cmd_postfix": "",
     "delete_cmd_prefix": "del ",
     "library": "var_list.py",
     "varRefreshCmd": "print(var_dic_list())"
    },
    "r": {
     "delete_cmd_postfix": ") ",
     "delete_cmd_prefix": "rm(",
     "library": "var_list.r",
     "varRefreshCmd": "cat(var_dic_list()) "
    }
   },
   "types_to_exclude": [
    "module",
    "function",
    "builtin_function_or_method",
    "instance",
    "_Feature"
   ],
   "window_display": false
  }
 },
 "nbformat": 4,
 "nbformat_minor": 1
}
